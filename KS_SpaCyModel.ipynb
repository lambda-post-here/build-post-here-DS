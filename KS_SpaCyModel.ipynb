{
 "cells": [
  {
   "cell_type": "code",
   "execution_count": 1,
   "metadata": {},
   "outputs": [],
   "source": [
    "import pandas as pd\n",
    "import numpy as np\n",
    "import seaborn as sns\n",
    "import matplotlib.pyplot as plt\n",
    "import base64\n",
    "import string\n",
    "import re\n",
    "from collections import Counter\n",
    "from nltk.corpus import stopwords\n",
    "stopwords = stopwords.words('english')"
   ]
  },
  {
   "cell_type": "code",
   "execution_count": 2,
   "metadata": {},
   "outputs": [
    {
     "data": {
      "text/html": [
       "<div>\n",
       "<style scoped>\n",
       "    .dataframe tbody tr th:only-of-type {\n",
       "        vertical-align: middle;\n",
       "    }\n",
       "\n",
       "    .dataframe tbody tr th {\n",
       "        vertical-align: top;\n",
       "    }\n",
       "\n",
       "    .dataframe thead th {\n",
       "        text-align: right;\n",
       "    }\n",
       "</style>\n",
       "<table border=\"1\" class=\"dataframe\">\n",
       "  <thead>\n",
       "    <tr style=\"text-align: right;\">\n",
       "      <th></th>\n",
       "      <th>Unnamed: 0</th>\n",
       "      <th>submission_id</th>\n",
       "      <th>title</th>\n",
       "      <th>text</th>\n",
       "      <th>subreddit_id</th>\n",
       "      <th>name</th>\n",
       "      <th>all_text</th>\n",
       "    </tr>\n",
       "  </thead>\n",
       "  <tbody>\n",
       "    <tr>\n",
       "      <th>0</th>\n",
       "      <td>0</td>\n",
       "      <td>bcy7ky</td>\n",
       "      <td>15 minutes wait to play more?</td>\n",
       "      <td>So I dodged a game, all my mains banned or pic...</td>\n",
       "      <td>2rfxx</td>\n",
       "      <td>leagueoflegends</td>\n",
       "      <td>15 minutes wait to play more? So I dodged a ga...</td>\n",
       "    </tr>\n",
       "    <tr>\n",
       "      <th>1</th>\n",
       "      <td>1</td>\n",
       "      <td>bcy6mf</td>\n",
       "      <td>League has to investigate possible fake game b...</td>\n",
       "      <td>Obvious inting in game 5 right before TSM win ...</td>\n",
       "      <td>2rfxx</td>\n",
       "      <td>leagueoflegends</td>\n",
       "      <td>League has to investigate possible fake game b...</td>\n",
       "    </tr>\n",
       "    <tr>\n",
       "      <th>2</th>\n",
       "      <td>2</td>\n",
       "      <td>bcz8v5</td>\n",
       "      <td>Xmithie...the Goat, I told you so</td>\n",
       "      <td>Here's what I said about Xmithie years ago...\\...</td>\n",
       "      <td>2rfxx</td>\n",
       "      <td>leagueoflegends</td>\n",
       "      <td>Xmithie...the Goat, I told you so Here's what ...</td>\n",
       "    </tr>\n",
       "    <tr>\n",
       "      <th>3</th>\n",
       "      <td>3</td>\n",
       "      <td>bcz9r2</td>\n",
       "      <td>Whatever happened to that Teacher in Korea who...</td>\n",
       "      <td>Anyone remember this ? It was way back like 20...</td>\n",
       "      <td>2rfxx</td>\n",
       "      <td>leagueoflegends</td>\n",
       "      <td>Whatever happened to that Teacher in Korea who...</td>\n",
       "    </tr>\n",
       "    <tr>\n",
       "      <th>4</th>\n",
       "      <td>4</td>\n",
       "      <td>bcz9wj</td>\n",
       "      <td>Just got to diamond playing annie only :)</td>\n",
       "      <td>Just wanted to share my excitement with you gu...</td>\n",
       "      <td>2rfxx</td>\n",
       "      <td>leagueoflegends</td>\n",
       "      <td>Just got to diamond playing annie only :) Just...</td>\n",
       "    </tr>\n",
       "    <tr>\n",
       "      <th>5</th>\n",
       "      <td>5</td>\n",
       "      <td>bcza0d</td>\n",
       "      <td>Hot Take: TSM vs TL is the Best Finals in LCS ...</td>\n",
       "      <td>As a TSM fan it sucks to lose, but those games...</td>\n",
       "      <td>2rfxx</td>\n",
       "      <td>leagueoflegends</td>\n",
       "      <td>Hot Take: TSM vs TL is the Best Finals in LCS ...</td>\n",
       "    </tr>\n",
       "    <tr>\n",
       "      <th>6</th>\n",
       "      <td>6</td>\n",
       "      <td>bczb3x</td>\n",
       "      <td>Doublelift never meet Faker before in an offic...</td>\n",
       "      <td>As the title, I just realized somehow Doubleli...</td>\n",
       "      <td>2rfxx</td>\n",
       "      <td>leagueoflegends</td>\n",
       "      <td>Doublelift never meet Faker before in an offic...</td>\n",
       "    </tr>\n",
       "    <tr>\n",
       "      <th>7</th>\n",
       "      <td>7</td>\n",
       "      <td>bczbqf</td>\n",
       "      <td>Griffin went balls to the walls to make LS loo...</td>\n",
       "      <td>after the whole LS Vs Reddit vs other casters ...</td>\n",
       "      <td>2rfxx</td>\n",
       "      <td>leagueoflegends</td>\n",
       "      <td>Griffin went balls to the walls to make LS loo...</td>\n",
       "    </tr>\n",
       "    <tr>\n",
       "      <th>8</th>\n",
       "      <td>8</td>\n",
       "      <td>bczbu3</td>\n",
       "      <td>Dodged ranked game due to client bug :)</td>\n",
       "      <td>&amp;#x200B;\\r\\r\\n\\r\\r\\nhttps://i.redd.it/fj8xph83...</td>\n",
       "      <td>2rfxx</td>\n",
       "      <td>leagueoflegends</td>\n",
       "      <td>Dodged ranked game due to client bug :) &amp;#x200...</td>\n",
       "    </tr>\n",
       "    <tr>\n",
       "      <th>9</th>\n",
       "      <td>9</td>\n",
       "      <td>bczdhn</td>\n",
       "      <td>Decided to re-roll the skin shards I had saved...</td>\n",
       "      <td>https://imgur.com/Ezbocp6\\r\\r\\n\\r\\r\\nhttps://i...</td>\n",
       "      <td>2rfxx</td>\n",
       "      <td>leagueoflegends</td>\n",
       "      <td>Decided to re-roll the skin shards I had saved...</td>\n",
       "    </tr>\n",
       "  </tbody>\n",
       "</table>\n",
       "</div>"
      ],
      "text/plain": [
       "   Unnamed: 0 submission_id  \\\n",
       "0           0        bcy7ky   \n",
       "1           1        bcy6mf   \n",
       "2           2        bcz8v5   \n",
       "3           3        bcz9r2   \n",
       "4           4        bcz9wj   \n",
       "5           5        bcza0d   \n",
       "6           6        bczb3x   \n",
       "7           7        bczbqf   \n",
       "8           8        bczbu3   \n",
       "9           9        bczdhn   \n",
       "\n",
       "                                               title  \\\n",
       "0                      15 minutes wait to play more?   \n",
       "1  League has to investigate possible fake game b...   \n",
       "2                  Xmithie...the Goat, I told you so   \n",
       "3  Whatever happened to that Teacher in Korea who...   \n",
       "4          Just got to diamond playing annie only :)   \n",
       "5  Hot Take: TSM vs TL is the Best Finals in LCS ...   \n",
       "6  Doublelift never meet Faker before in an offic...   \n",
       "7  Griffin went balls to the walls to make LS loo...   \n",
       "8            Dodged ranked game due to client bug :)   \n",
       "9  Decided to re-roll the skin shards I had saved...   \n",
       "\n",
       "                                                text subreddit_id  \\\n",
       "0  So I dodged a game, all my mains banned or pic...        2rfxx   \n",
       "1  Obvious inting in game 5 right before TSM win ...        2rfxx   \n",
       "2  Here's what I said about Xmithie years ago...\\...        2rfxx   \n",
       "3  Anyone remember this ? It was way back like 20...        2rfxx   \n",
       "4  Just wanted to share my excitement with you gu...        2rfxx   \n",
       "5  As a TSM fan it sucks to lose, but those games...        2rfxx   \n",
       "6  As the title, I just realized somehow Doubleli...        2rfxx   \n",
       "7  after the whole LS Vs Reddit vs other casters ...        2rfxx   \n",
       "8  &#x200B;\\r\\r\\n\\r\\r\\nhttps://i.redd.it/fj8xph83...        2rfxx   \n",
       "9  https://imgur.com/Ezbocp6\\r\\r\\n\\r\\r\\nhttps://i...        2rfxx   \n",
       "\n",
       "              name                                           all_text  \n",
       "0  leagueoflegends  15 minutes wait to play more? So I dodged a ga...  \n",
       "1  leagueoflegends  League has to investigate possible fake game b...  \n",
       "2  leagueoflegends  Xmithie...the Goat, I told you so Here's what ...  \n",
       "3  leagueoflegends  Whatever happened to that Teacher in Korea who...  \n",
       "4  leagueoflegends  Just got to diamond playing annie only :) Just...  \n",
       "5  leagueoflegends  Hot Take: TSM vs TL is the Best Finals in LCS ...  \n",
       "6  leagueoflegends  Doublelift never meet Faker before in an offic...  \n",
       "7  leagueoflegends  Griffin went balls to the walls to make LS loo...  \n",
       "8  leagueoflegends  Dodged ranked game due to client bug :) &#x200...  \n",
       "9  leagueoflegends  Decided to re-roll the skin shards I had saved...  "
      ]
     },
     "execution_count": 2,
     "metadata": {},
     "output_type": "execute_result"
    }
   ],
   "source": [
    "df = pd.read_csv('/Users/ksmith/Documents/Code/DS1/Unit4_Project/build-post-here-DS/plz_work.csv')\n",
    "df = df.fillna('')\n",
    "df['all_text'] = df['title'] + ' ' + df['text'] # Combining text & titles to one field\n",
    "\n",
    "df.head(10)"
   ]
  },
  {
   "cell_type": "code",
   "execution_count": 3,
   "metadata": {},
   "outputs": [
    {
     "data": {
      "text/html": [
       "<div>\n",
       "<style scoped>\n",
       "    .dataframe tbody tr th:only-of-type {\n",
       "        vertical-align: middle;\n",
       "    }\n",
       "\n",
       "    .dataframe tbody tr th {\n",
       "        vertical-align: top;\n",
       "    }\n",
       "\n",
       "    .dataframe thead th {\n",
       "        text-align: right;\n",
       "    }\n",
       "</style>\n",
       "<table border=\"1\" class=\"dataframe\">\n",
       "  <thead>\n",
       "    <tr style=\"text-align: right;\">\n",
       "      <th></th>\n",
       "      <th>submission_id</th>\n",
       "      <th>title</th>\n",
       "      <th>text</th>\n",
       "      <th>subreddit_id</th>\n",
       "      <th>name</th>\n",
       "      <th>all_text</th>\n",
       "    </tr>\n",
       "  </thead>\n",
       "  <tbody>\n",
       "    <tr>\n",
       "      <th>551</th>\n",
       "      <td>bcy7k8</td>\n",
       "      <td>[Spoilers] What is that one conspiracy theory ...</td>\n",
       "      <td>Arya is already dead and is actually Jaqen H'g...</td>\n",
       "      <td>2rjz2</td>\n",
       "      <td>gameofthrones</td>\n",
       "      <td>[Spoilers] What is that one conspiracy theory ...</td>\n",
       "    </tr>\n",
       "    <tr>\n",
       "      <th>552</th>\n",
       "      <td>bcz9cw</td>\n",
       "      <td>[SPOILERS] The only reunion that I want to see...</td>\n",
       "      <td></td>\n",
       "      <td>2rjz2</td>\n",
       "      <td>gameofthrones</td>\n",
       "      <td>[SPOILERS] The only reunion that I want to see...</td>\n",
       "    </tr>\n",
       "    <tr>\n",
       "      <th>553</th>\n",
       "      <td>bczaow</td>\n",
       "      <td>[No Spoilers] How does rising the dead work?</td>\n",
       "      <td>Some stuff I wonder about.\\r\\r\\n\\r\\r\\nHow fres...</td>\n",
       "      <td>2rjz2</td>\n",
       "      <td>gameofthrones</td>\n",
       "      <td>[No Spoilers] How does rising the dead work? S...</td>\n",
       "    </tr>\n",
       "    <tr>\n",
       "      <th>554</th>\n",
       "      <td>bczgts</td>\n",
       "      <td>[No Spoilers] House Targaryen sigil cross stitch</td>\n",
       "      <td></td>\n",
       "      <td>2rjz2</td>\n",
       "      <td>gameofthrones</td>\n",
       "      <td>[No Spoilers] House Targaryen sigil cross stitch</td>\n",
       "    </tr>\n",
       "    <tr>\n",
       "      <th>555</th>\n",
       "      <td>bczhln</td>\n",
       "      <td>[No Spoilers] Need help!!</td>\n",
       "      <td>My exams(very important) are going on and will...</td>\n",
       "      <td>2rjz2</td>\n",
       "      <td>gameofthrones</td>\n",
       "      <td>[No Spoilers] Need help!! My exams(very import...</td>\n",
       "    </tr>\n",
       "  </tbody>\n",
       "</table>\n",
       "</div>"
      ],
      "text/plain": [
       "    submission_id                                              title  \\\n",
       "551        bcy7k8  [Spoilers] What is that one conspiracy theory ...   \n",
       "552        bcz9cw  [SPOILERS] The only reunion that I want to see...   \n",
       "553        bczaow       [No Spoilers] How does rising the dead work?   \n",
       "554        bczgts   [No Spoilers] House Targaryen sigil cross stitch   \n",
       "555        bczhln                          [No Spoilers] Need help!!   \n",
       "\n",
       "                                                  text subreddit_id  \\\n",
       "551  Arya is already dead and is actually Jaqen H'g...        2rjz2   \n",
       "552                                                           2rjz2   \n",
       "553  Some stuff I wonder about.\\r\\r\\n\\r\\r\\nHow fres...        2rjz2   \n",
       "554                                                           2rjz2   \n",
       "555  My exams(very important) are going on and will...        2rjz2   \n",
       "\n",
       "              name                                           all_text  \n",
       "551  gameofthrones  [Spoilers] What is that one conspiracy theory ...  \n",
       "552  gameofthrones  [SPOILERS] The only reunion that I want to see...  \n",
       "553  gameofthrones  [No Spoilers] How does rising the dead work? S...  \n",
       "554  gameofthrones  [No Spoilers] House Targaryen sigil cross stitch   \n",
       "555  gameofthrones  [No Spoilers] Need help!! My exams(very import...  "
      ]
     },
     "execution_count": 3,
     "metadata": {},
     "output_type": "execute_result"
    }
   ],
   "source": [
    "top_20 = ['AskReddit', 'dankmemes', 'memes', 'teenagers', 'aww', 'RocketLeagueExchange', 'Showerthoughts',\n",
    "          'funny', 'me_irl', 'freefolk', 'gameofthrones', 'pics', 'NoStupidQuestions', 'AskOuija',\n",
    "          'unpopularopinion', 'gaming', 'videos', 'politics', 'AmItheAsshole', 'Jokes']\n",
    "\n",
    "data = df[df['name'].isin(top_20)]\n",
    "data = data.drop(data.columns[0], axis=1) # Drop old row index\n",
    "data.head()"
   ]
  },
  {
   "cell_type": "code",
   "execution_count": 4,
   "metadata": {},
   "outputs": [],
   "source": [
    "import re\n",
    "from urllib.parse import urlparse\n",
    "\n",
    "def url_replace(string):\n",
    "    return re.sub('http\\S+|www.\\S+', lambda match: urlparse(match.group()).hostname, string)\n",
    "\n",
    "data['all_text'] = data['all_text'].apply(url_replace)"
   ]
  },
  {
   "cell_type": "code",
   "execution_count": 5,
   "metadata": {},
   "outputs": [],
   "source": [
    "import string\n",
    "\n",
    "table = str.maketrans(string.punctuation, ' '*len(string.punctuation))\n",
    "\n",
    "data['all_text'] = data['all_text'].str.lower()  #Text is lowercase\n",
    "data['all_text'] = data['all_text'].str.replace('\\r','')\n",
    "data['all_text'] = data['all_text'].str.replace('\\n','')\n",
    "data['all_text'] = data['all_text'].str.replace('/',' ')\n",
    "data['all_text'] = data['all_text'].str.replace('  ',' ')\n",
    "data['all_text'] = data['all_text'].str.replace('www','')\n",
    "data['all_text'] = data['all_text'].str.replace('com',' ')\n",
    "data['all_text'] = data['all_text'].str.translate(table) #Remove punctuation"
   ]
  },
  {
   "cell_type": "code",
   "execution_count": 6,
   "metadata": {},
   "outputs": [],
   "source": [
    "from sklearn.model_selection import train_test_split\n",
    "\n",
    "from sklearn.model_selection import train_test_split\n",
    "train, test = train_test_split(data, test_size=0.33, random_state=42)"
   ]
  },
  {
   "cell_type": "code",
   "execution_count": 7,
   "metadata": {},
   "outputs": [
    {
     "data": {
      "image/png": "[encoded data removed]",
      "text/plain": [
       "<Figure size 2160x720 with 1 Axes>"
      ]
     },
     "metadata": {
      "needs_background": "light"
     },
     "output_type": "display_data"
    }
   ],
   "source": [
    "fig = plt.figure(figsize=(30,10))\n",
    "sns.barplot(x = train['name'].unique(), y=train['name'].value_counts())\n",
    "plt.show()"
   ]
  },
  {
   "cell_type": "code",
   "execution_count": 9,
   "metadata": {},
   "outputs": [
    {
     "name": "stdout",
     "output_type": "stream",
     "text": [
      "Collecting spacy\n",
      "\u001b[?25l  Downloading https://files.pythonhosted.org/packages/77/f3/eb5aece989ecca541c4b5a439cb8a86fe5254b1521925b547609fb3aaf64/spacy-2.1.3.tar.gz (27.7MB)\n",
      "\u001b[K    100% |████████████████████████████████| 27.7MB 2.0MB/s eta 0:00:01\n",
      "\u001b[?25h  Installing build dependencies ... \u001b[?25ldone\n",
      "\u001b[?25hRequirement already satisfied: numpy>=1.15.0 in /usr/local/anaconda3/lib/python3.7/site-packages (from spacy) (1.15.4)\n",
      "Collecting murmurhash<1.1.0,>=0.28.0 (from spacy)\n",
      "  Using cached https://files.pythonhosted.org/packages/b9/bd/faace403086ee922afc74e5615cb8c21020fcf5d5667314e943c08f71fde/murmurhash-1.0.2-cp37-cp37m-macosx_10_6_intel.macosx_10_9_intel.macosx_10_9_x86_64.macosx_10_10_intel.macosx_10_10_x86_64.whl\n",
      "Collecting cymem<2.1.0,>=2.0.2 (from spacy)\n",
      "  Using cached https://files.pythonhosted.org/packages/d7/11/37da628920bf2999bd8c4ffc40908413622486d5dbc4e60d87a58c428367/cymem-2.0.2-cp37-cp37m-macosx_10_6_intel.macosx_10_9_intel.macosx_10_9_x86_64.macosx_10_10_intel.macosx_10_10_x86_64.whl\n",
      "Collecting preshed<2.1.0,>=2.0.1 (from spacy)\n",
      "  Using cached https://files.pythonhosted.org/packages/48/fe/2f2e8c91541785f2abe0d51f37eb00356513b9ff3d24fb27fd5b59e18264/preshed-2.0.1-cp37-cp37m-macosx_10_6_intel.macosx_10_9_intel.macosx_10_9_x86_64.macosx_10_10_intel.macosx_10_10_x86_64.whl\n",
      "Collecting thinc<7.1.0,>=7.0.2 (from spacy)\n",
      "\u001b[?25l  Downloading https://files.pythonhosted.org/packages/92/b1/d7df83813ee3c42d46e6ddf4d4f1d9bd35a4735827d35b7f02539bea3136/thinc-7.0.4-cp37-cp37m-macosx_10_6_intel.macosx_10_9_intel.macosx_10_9_x86_64.macosx_10_10_intel.macosx_10_10_x86_64.whl (2.8MB)\n",
      "\u001b[K    100% |████████████████████████████████| 2.8MB 13.0MB/s ta 0:00:01\n",
      "\u001b[?25hCollecting blis<0.3.0,>=0.2.2 (from spacy)\n",
      "  Using cached https://files.pythonhosted.org/packages/36/41/9e934e2b8a2cdae447ed1923a94f98c2d70c898b65af6635f5fe55f7ed4d/blis-0.2.4-cp37-cp37m-macosx_10_6_intel.macosx_10_9_intel.macosx_10_9_x86_64.macosx_10_10_intel.macosx_10_10_x86_64.whl\n",
      "Collecting plac<1.0.0,>=0.9.6 (from spacy)\n",
      "  Using cached https://files.pythonhosted.org/packages/9e/9b/62c60d2f5bc135d2aa1d8c8a86aaf84edb719a59c7f11a4316259e61a298/plac-0.9.6-py2.py3-none-any.whl\n",
      "Requirement already satisfied: requests<3.0.0,>=2.13.0 in /usr/local/anaconda3/lib/python3.7/site-packages (from spacy) (2.19.1)\n",
      "Requirement already satisfied: jsonschema<3.0.0,>=2.6.0 in /usr/local/anaconda3/lib/python3.7/site-packages (from spacy) (2.6.0)\n",
      "Collecting wasabi<1.1.0,>=0.2.0 (from spacy)\n",
      "  Using cached https://files.pythonhosted.org/packages/76/6c/0376977df1ba9f0ec27835d80456d9284c79737cb5205649451db1181f01/wasabi-0.2.1-py3-none-any.whl\n",
      "Collecting srsly<1.1.0,>=0.0.5 (from spacy)\n",
      "  Using cached https://files.pythonhosted.org/packages/c8/b2/d2cc9f5aa5a458aca45d8689279b41d4b42ba4e8c63b0cb6a9f009340fd0/srsly-0.0.5-cp37-cp37m-macosx_10_6_intel.macosx_10_9_intel.macosx_10_9_x86_64.macosx_10_10_intel.macosx_10_10_x86_64.whl\n",
      "Requirement already satisfied: tqdm<5.0.0,>=4.10.0 in /usr/local/anaconda3/lib/python3.7/site-packages (from thinc<7.1.0,>=7.0.2->spacy) (4.26.0)\n",
      "Requirement already satisfied: certifi>=2017.4.17 in /usr/local/anaconda3/lib/python3.7/site-packages (from requests<3.0.0,>=2.13.0->spacy) (2019.3.9)\n",
      "Requirement already satisfied: chardet<3.1.0,>=3.0.2 in /usr/local/anaconda3/lib/python3.7/site-packages (from requests<3.0.0,>=2.13.0->spacy) (3.0.4)\n",
      "Requirement already satisfied: idna<2.8,>=2.5 in /usr/local/anaconda3/lib/python3.7/site-packages (from requests<3.0.0,>=2.13.0->spacy) (2.7)\n",
      "Requirement already satisfied: urllib3<1.24,>=1.21.1 in /usr/local/anaconda3/lib/python3.7/site-packages (from requests<3.0.0,>=2.13.0->spacy) (1.22)\n",
      "Building wheels for collected packages: spacy\n",
      "  Running setup.py bdist_wheel for spacy ... \u001b[?25ldone\n",
      "\u001b[?25h  Stored in directory: /Users/ksmith/Library/Caches/pip/wheels/67/16/2b/95f509d3ed9752e575649e4072f072363e75146ac06d09195a\n",
      "Successfully built spacy\n",
      "Installing collected packages: murmurhash, cymem, preshed, srsly, plac, wasabi, blis, thinc, spacy\n",
      "Successfully installed blis-0.2.4 cymem-2.0.2 murmurhash-1.0.2 plac-0.9.6 preshed-2.0.1 spacy-2.1.3 srsly-0.0.5 thinc-7.0.4 wasabi-0.2.1\n",
      "\u001b[33mYou are using pip version 10.0.1, however version 19.0.3 is available.\n",
      "You should consider upgrading via the 'pip install --upgrade pip' command.\u001b[0m\n"
     ]
    }
   ],
   "source": [
    "!pip install spacy"
   ]
  },
  {
   "cell_type": "code",
   "execution_count": 22,
   "metadata": {},
   "outputs": [
    {
     "name": "stdout",
     "output_type": "stream",
     "text": [
      "Requirement already satisfied: en_core_web_sm==2.1.0 from https://github.com/explosion/spacy-models/releases/download/en_core_web_sm-2.1.0/en_core_web_sm-2.1.0.tar.gz#egg=en_core_web_sm==2.1.0 in /usr/local/anaconda3/lib/python3.7/site-packages (2.1.0)\n",
      "\u001b[33mYou are using pip version 10.0.1, however version 19.0.3 is available.\n",
      "You should consider upgrading via the 'pip install --upgrade pip' command.\u001b[0m\n",
      "\u001b[38;5;2m✔ Download and installation successful\u001b[0m\n",
      "You can now load the model via spacy.load('en_core_web_sm')\n"
     ]
    }
   ],
   "source": [
    "!python -m spacy download en_core_web_sm"
   ]
  },
  {
   "cell_type": "code",
   "execution_count": 27,
   "metadata": {},
   "outputs": [],
   "source": [
    "import spacy\n",
    "import en_core_web_sm\n",
    "nlp = en_core_web_sm.load()\n",
    "\n",
    "punctuations = string.punctuation\n",
    "def cleanup_text(docs, logging=False):\n",
    "    texts = []\n",
    "    counter = 1\n",
    "    for doc in docs:\n",
    "        if counter % 1000 == 0 and logging:\n",
    "            print(\"Processed %d out of %d documents.\" % (counter, len(docs)))\n",
    "        counter += 1\n",
    "        doc = nlp(doc, disable=['parser', 'ner'])\n",
    "        tokens = [tok.lemma_.lower().strip() for tok in doc if tok.lemma_ != '-PRON-']\n",
    "        tokens = [tok for tok in tokens if tok not in stopwords and tok not in punctuations]\n",
    "        tokens = ' '.join(tokens)\n",
    "        texts.append(tokens)\n",
    "    return pd.Series(texts)\n",
    "\n",
    "st_text = [text for text in train[train['name'] == 'Showerthoughts']['all_text']]\n",
    "ask_text = [text for text in train[train['name'] == 'AskReddit']['all_text']]\n",
    "st_clean = cleanup_text(st_text)\n",
    "st_clean = ' '.join(st_clean).split()\n",
    "ask_clean = cleanup_text(ask_text)\n",
    "ask_clean = ' '.join(ask_clean).split()\n",
    "st_counts = Counter(st_clean)\n",
    "ask_counts = Counter(ask_clean)"
   ]
  },
  {
   "cell_type": "code",
   "execution_count": 28,
   "metadata": {},
   "outputs": [
    {
     "data": {
      "image/png": "[encoded data removed]",
      "text/plain": [
       "<Figure size 1296x432 with 1 Axes>"
      ]
     },
     "metadata": {
      "needs_background": "light"
     },
     "output_type": "display_data"
    }
   ],
   "source": [
    "st_common_words = [word[0] for word in st_counts.most_common(20)]\n",
    "st_common_counts = [word[1] for word in st_counts.most_common(20)]\n",
    "fig = plt.figure(figsize=(18,6))\n",
    "sns.barplot(x=st_common_words, y=st_common_counts)\n",
    "plt.title(\"Most Common Words used in posts for subreddit r'Showerthoughts'\")\n",
    "plt.show()"
   ]
  },
  {
   "cell_type": "code",
   "execution_count": 29,
   "metadata": {},
   "outputs": [
    {
     "data": {
      "image/png": "[encoded data removed]",
      "text/plain": [
       "<Figure size 1296x432 with 1 Axes>"
      ]
     },
     "metadata": {
      "needs_background": "light"
     },
     "output_type": "display_data"
    }
   ],
   "source": [
    "ask_common_words = [word[0] for word in ask_counts.most_common(20)]\n",
    "ask_common_counts = [word[1] for word in ask_counts.most_common(20)]\n",
    "fig = plt.figure(figsize=(18,6))\n",
    "sns.barplot(x=ask_common_words, y=ask_common_counts)\n",
    "plt.title(\"Most Common Words used in posts for subreddit r'AskReddit'\")\n",
    "plt.show()"
   ]
  },
  {
   "cell_type": "code",
   "execution_count": 31,
   "metadata": {},
   "outputs": [
    {
     "name": "stdout",
     "output_type": "stream",
     "text": [
      "Requirement already satisfied: en_core_web_sm==2.1.0 from https://github.com/explosion/spacy-models/releases/download/en_core_web_sm-2.1.0/en_core_web_sm-2.1.0.tar.gz#egg=en_core_web_sm==2.1.0 in /usr/local/anaconda3/lib/python3.7/site-packages (2.1.0)\n",
      "\u001b[33mYou are using pip version 10.0.1, however version 19.0.3 is available.\n",
      "You should consider upgrading via the 'pip install --upgrade pip' command.\u001b[0m\n",
      "\u001b[38;5;2m✔ Download and installation successful\u001b[0m\n",
      "You can now load the model via spacy.load('en_core_web_sm')\n",
      "\u001b[38;5;2m✔ Linking successful\u001b[0m\n",
      "/usr/local/anaconda3/lib/python3.7/site-packages/en_core_web_sm -->\n",
      "/usr/local/anaconda3/lib/python3.7/site-packages/spacy/data/en\n",
      "You can now load the model via spacy.load('en')\n"
     ]
    }
   ],
   "source": [
    "!python -m spacy download en"
   ]
  },
  {
   "cell_type": "code",
   "execution_count": 47,
   "metadata": {},
   "outputs": [],
   "source": [
    "from sklearn.feature_extraction.text import CountVectorizer\n",
    "from sklearn.base import TransformerMixin\n",
    "from sklearn.pipeline import Pipeline\n",
    "from sklearn.svm import LinearSVC\n",
    "from sklearn.calibration import CalibratedClassifierCV\n",
    "from sklearn.feature_extraction.stop_words import ENGLISH_STOP_WORDS\n",
    "from sklearn.metrics import accuracy_score\n",
    "from nltk.corpus import stopwords\n",
    "import string\n",
    "import re\n",
    "import spacy\n",
    "spacy.load('en')\n",
    "from spacy.lang.en import English\n",
    "parser = English()"
   ]
  },
  {
   "cell_type": "code",
   "execution_count": 33,
   "metadata": {},
   "outputs": [],
   "source": [
    "STOPLIST = set(stopwords.words('english') + list(ENGLISH_STOP_WORDS))\n",
    "SYMBOLS = \" \".join(string.punctuation).split(\" \") + [\"-\", \"...\", \"”\", \"”\"]\n",
    "class CleanTextTransformer(TransformerMixin):\n",
    "   def transform(self, X, **transform_params):\n",
    "        return [cleanText(text) for text in X]\n",
    "   def fit(self, X, y=None, **fit_params):\n",
    "        return self\n",
    "def get_params(self, deep=True):\n",
    "        return {}\n",
    "    \n",
    "def cleanText(text):\n",
    "    text = text.strip().replace(\"\\n\", \" \").replace(\"\\r\", \" \")\n",
    "    text = text.lower()\n",
    "    return text\n",
    "def tokenizeText(sample):\n",
    "    tokens = parser(sample)\n",
    "    lemmas = []\n",
    "    for tok in tokens:\n",
    "        lemmas.append(tok.lemma_.lower().strip() if tok.lemma_ != \"-PRON-\" else tok.lower_)\n",
    "    tokens = lemmas\n",
    "    tokens = [tok for tok in tokens if tok not in STOPLIST]\n",
    "    tokens = [tok for tok in tokens if tok not in SYMBOLS]\n",
    "    return tokens"
   ]
  },
  {
   "cell_type": "code",
   "execution_count": 48,
   "metadata": {},
   "outputs": [
    {
     "name": "stderr",
     "output_type": "stream",
     "text": [
      "/usr/local/anaconda3/lib/python3.7/site-packages/sklearn/calibration.py:447: RuntimeWarning: invalid value encountered in multiply\n",
      "  TEP_minus_T1P = P * (T * E - T1)\n",
      "/usr/local/anaconda3/lib/python3.7/site-packages/sklearn/calibration.py:447: RuntimeWarning: invalid value encountered in multiply\n",
      "  TEP_minus_T1P = P * (T * E - T1)\n",
      "/usr/local/anaconda3/lib/python3.7/site-packages/sklearn/calibration.py:447: RuntimeWarning: invalid value encountered in multiply\n",
      "  TEP_minus_T1P = P * (T * E - T1)\n",
      "/usr/local/anaconda3/lib/python3.7/site-packages/sklearn/calibration.py:447: RuntimeWarning: invalid value encountered in multiply\n",
      "  TEP_minus_T1P = P * (T * E - T1)\n",
      "/usr/local/anaconda3/lib/python3.7/site-packages/sklearn/calibration.py:447: RuntimeWarning: invalid value encountered in multiply\n",
      "  TEP_minus_T1P = P * (T * E - T1)\n",
      "/usr/local/anaconda3/lib/python3.7/site-packages/sklearn/calibration.py:447: RuntimeWarning: invalid value encountered in multiply\n",
      "  TEP_minus_T1P = P * (T * E - T1)\n",
      "/usr/local/anaconda3/lib/python3.7/site-packages/sklearn/calibration.py:447: RuntimeWarning: invalid value encountered in multiply\n",
      "  TEP_minus_T1P = P * (T * E - T1)\n",
      "/usr/local/anaconda3/lib/python3.7/site-packages/sklearn/calibration.py:447: RuntimeWarning: invalid value encountered in multiply\n",
      "  TEP_minus_T1P = P * (T * E - T1)\n",
      "/usr/local/anaconda3/lib/python3.7/site-packages/sklearn/calibration.py:447: RuntimeWarning: invalid value encountered in multiply\n",
      "  TEP_minus_T1P = P * (T * E - T1)\n",
      "/usr/local/anaconda3/lib/python3.7/site-packages/sklearn/calibration.py:447: RuntimeWarning: invalid value encountered in multiply\n",
      "  TEP_minus_T1P = P * (T * E - T1)\n",
      "/usr/local/anaconda3/lib/python3.7/site-packages/sklearn/calibration.py:447: RuntimeWarning: invalid value encountered in multiply\n",
      "  TEP_minus_T1P = P * (T * E - T1)\n",
      "/usr/local/anaconda3/lib/python3.7/site-packages/sklearn/calibration.py:447: RuntimeWarning: invalid value encountered in multiply\n",
      "  TEP_minus_T1P = P * (T * E - T1)\n",
      "/usr/local/anaconda3/lib/python3.7/site-packages/sklearn/calibration.py:447: RuntimeWarning: invalid value encountered in multiply\n",
      "  TEP_minus_T1P = P * (T * E - T1)\n",
      "/usr/local/anaconda3/lib/python3.7/site-packages/sklearn/calibration.py:447: RuntimeWarning: invalid value encountered in multiply\n",
      "  TEP_minus_T1P = P * (T * E - T1)\n",
      "/usr/local/anaconda3/lib/python3.7/site-packages/sklearn/calibration.py:447: RuntimeWarning: invalid value encountered in multiply\n",
      "  TEP_minus_T1P = P * (T * E - T1)\n",
      "/usr/local/anaconda3/lib/python3.7/site-packages/sklearn/calibration.py:447: RuntimeWarning: invalid value encountered in multiply\n",
      "  TEP_minus_T1P = P * (T * E - T1)\n",
      "/usr/local/anaconda3/lib/python3.7/site-packages/sklearn/calibration.py:447: RuntimeWarning: invalid value encountered in multiply\n",
      "  TEP_minus_T1P = P * (T * E - T1)\n",
      "/usr/local/anaconda3/lib/python3.7/site-packages/sklearn/calibration.py:447: RuntimeWarning: invalid value encountered in multiply\n",
      "  TEP_minus_T1P = P * (T * E - T1)\n",
      "/usr/local/anaconda3/lib/python3.7/site-packages/sklearn/calibration.py:447: RuntimeWarning: invalid value encountered in multiply\n",
      "  TEP_minus_T1P = P * (T * E - T1)\n",
      "/usr/local/anaconda3/lib/python3.7/site-packages/sklearn/calibration.py:447: RuntimeWarning: invalid value encountered in multiply\n",
      "  TEP_minus_T1P = P * (T * E - T1)\n",
      "/usr/local/anaconda3/lib/python3.7/site-packages/sklearn/calibration.py:447: RuntimeWarning: invalid value encountered in multiply\n",
      "  TEP_minus_T1P = P * (T * E - T1)\n",
      "/usr/local/anaconda3/lib/python3.7/site-packages/sklearn/calibration.py:447: RuntimeWarning: invalid value encountered in multiply\n",
      "  TEP_minus_T1P = P * (T * E - T1)\n",
      "/usr/local/anaconda3/lib/python3.7/site-packages/sklearn/calibration.py:447: RuntimeWarning: invalid value encountered in multiply\n",
      "  TEP_minus_T1P = P * (T * E - T1)\n",
      "/usr/local/anaconda3/lib/python3.7/site-packages/sklearn/calibration.py:447: RuntimeWarning: invalid value encountered in multiply\n",
      "  TEP_minus_T1P = P * (T * E - T1)\n",
      "/usr/local/anaconda3/lib/python3.7/site-packages/sklearn/calibration.py:447: RuntimeWarning: invalid value encountered in multiply\n",
      "  TEP_minus_T1P = P * (T * E - T1)\n",
      "/usr/local/anaconda3/lib/python3.7/site-packages/sklearn/calibration.py:447: RuntimeWarning: invalid value encountered in multiply\n",
      "  TEP_minus_T1P = P * (T * E - T1)\n"
     ]
    },
    {
     "name": "stdout",
     "output_type": "stream",
     "text": [
      "accuracy: 0.5442711023866101\n"
     ]
    }
   ],
   "source": [
    "def printNMostInformative(vectorizer, clf, N):\n",
    "    feature_names = vectorizer.get_feature_names()\n",
    "    coefs_with_fns = sorted(zip(clf.coef_[0], feature_names))\n",
    "    topClass1 = coefs_with_fns[:N]\n",
    "    topClass2 = coefs_with_fns[:-(N + 1):-1]\n",
    "    print(\"Class 1 best: \")\n",
    "    for feat in topClass1:\n",
    "        print(feat)\n",
    "    print(\"Class 2 best: \")\n",
    "    for feat in topClass2:\n",
    "        print(feat)\n",
    "vectorizer = CountVectorizer(tokenizer=tokenizeText, ngram_range=(1,1))\n",
    "svm = LinearSVC()\n",
    "clf = CalibratedClassifierCV(svm) \n",
    "\n",
    "pipe = Pipeline([('cleanText', CleanTextTransformer()), ('vectorizer', vectorizer), ('clf', clf)])\n",
    "# data\n",
    "train1 = train['all_text'].tolist()\n",
    "labelsTrain1 = train['name'].tolist()\n",
    "test1 = test['all_text'].tolist()\n",
    "labelsTest1 = test['name'].tolist()\n",
    "# train\n",
    "pipe.fit(train1, labelsTrain1)\n",
    "# test\n",
    "preds = pipe.predict(test1)\n",
    "print(\"accuracy:\", accuracy_score(labelsTest1, preds))\n",
    "# print(\"Top 10 features used to predict: \")\n",
    "\n",
    "# printNMostInformative(vectorizer, clf, 10)\n",
    "# pipe = Pipeline([('cleanText', CleanTextTransformer()), ('vectorizer', vectorizer)])\n",
    "# transform = pipe.fit_transform(train1, labelsTrain1)\n",
    "# vocab = vectorizer.get_feature_names()\n",
    "# for i in range(len(train1)):\n",
    "#     s = \"\"\n",
    "#     indexIntoVocab = transform.indices[transform.indptr[i]:transform.indptr[i+1]]\n",
    "#     numOccurences = transform.data[transform.indptr[i]:transform.indptr[i+1]]\n",
    "#     for idx, num in zip(indexIntoVocab, numOccurences):\n",
    "#         s += str((vocab[idx], num))"
   ]
  },
  {
   "cell_type": "code",
   "execution_count": 49,
   "metadata": {},
   "outputs": [
    {
     "name": "stdout",
     "output_type": "stream",
     "text": [
      "                      precision    recall  f1-score   support\n",
      "\n",
      "       gameofthrones       0.96      0.94      0.95       822\n",
      "           teenagers       0.36      0.09      0.15       788\n",
      "           AskReddit       0.38      0.95      0.55      6090\n",
      "                pics       0.66      0.43      0.52      1581\n",
      "           dankmemes       0.54      0.38      0.45      1940\n",
      "RocketLeagueExchange       0.99      0.99      0.99      1113\n",
      "                 aww       0.33      0.08      0.13      1006\n",
      "              me_irl       0.67      0.39      0.49      1463\n",
      "               funny       0.36      0.04      0.08       780\n",
      "      Showerthoughts       0.75      0.34      0.47      1061\n",
      "               memes       0.33      0.10      0.16      1580\n",
      "    unpopularopinion       0.82      0.82      0.82      1025\n",
      "       AmItheAsshole       0.65      0.37      0.47      1410\n",
      "              videos       0.99      0.97      0.98      1054\n",
      "            freefolk       0.16      0.04      0.06       718\n",
      "              gaming       0.53      0.35      0.42      1442\n",
      "               Jokes       0.87      0.84      0.85      1838\n",
      "   NoStupidQuestions       0.68      0.31      0.42      1190\n",
      "            AskOuija       0.78      0.43      0.56       684\n",
      "            politics       0.56      0.24      0.33      1452\n",
      "\n",
      "         avg / total       0.58      0.54      0.51     29037\n",
      "\n"
     ]
    }
   ],
   "source": [
    "from sklearn import metrics\n",
    "print(metrics.classification_report(labelsTest1, preds, \n",
    "                                    target_names=data['name'].unique()))"
   ]
  },
  {
   "cell_type": "code",
   "execution_count": 50,
   "metadata": {},
   "outputs": [
    {
     "data": {
      "text/plain": [
       "['no spoilers  how does rising the dead work some stuff i wonder about how fresh do the dead need to be  can the nk rise people ho died weeks months years ago and how close']"
      ]
     },
     "execution_count": 50,
     "metadata": {},
     "output_type": "execute_result"
    }
   ],
   "source": [
    "input_title = \"no spoilers  how does rising the dead work\"\n",
    "input_text = \"some stuff i wonder about how fresh do the dead need to be  can the nk rise people ho died weeks months years ago and how close\"\n",
    "all_input = [input_title + ' ' + input_text]\n",
    "\n",
    "all_input\n"
   ]
  },
  {
   "cell_type": "code",
   "execution_count": 51,
   "metadata": {},
   "outputs": [
    {
     "data": {
      "text/plain": [
       "array(['gameofthrones'], dtype='<U20')"
      ]
     },
     "execution_count": 51,
     "metadata": {},
     "output_type": "execute_result"
    }
   ],
   "source": [
    "pipe.predict(all_input)"
   ]
  },
  {
   "cell_type": "code",
   "execution_count": 52,
   "metadata": {},
   "outputs": [
    {
     "name": "stdout",
     "output_type": "stream",
     "text": [
      "[['gameofthrones' 0.3742625703561772]\n",
      " ['NoStupidQuestions' 0.1344190498366993]\n",
      " ['AskReddit' 0.12857043539264698]\n",
      " ['teenagers' 0.12159356414331896]\n",
      " ['Showerthoughts' 0.06325879998386587]]\n"
     ]
    }
   ],
   "source": [
    "output = pd.DataFrame(pipe.predict_proba(all_input), columns=pipe.classes_).T.nlargest(5, [0]).reset_index().values\n",
    "print(output)"
   ]
  },
  {
   "cell_type": "code",
   "execution_count": null,
   "metadata": {},
   "outputs": [],
   "source": []
  }
 ],
 "metadata": {
  "kernelspec": {
   "display_name": "Python 3",
   "language": "python",
   "name": "python3"
  },
  "language_info": {
   "codemirror_mode": {
    "name": "ipython",
    "version": 3
   },
   "file_extension": ".py",
   "mimetype": "text/x-python",
   "name": "python",
   "nbconvert_exporter": "python",
   "pygments_lexer": "ipython3",
   "version": "3.7.2"
  }
 },
 "nbformat": 4,
 "nbformat_minor": 2
}
