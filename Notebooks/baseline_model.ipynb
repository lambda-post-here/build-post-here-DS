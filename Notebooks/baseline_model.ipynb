{
 "cells": [
  {
   "cell_type": "code",
   "execution_count": 1,
   "metadata": {},
   "outputs": [],
   "source": [
    "import pandas as pd\n",
    "import numpy as np\n",
    "from tqdm import tqdm\n",
    "tqdm.pandas(desc=\"progress-bar\")\n",
    "from gensim.models import Doc2Vec\n",
    "from sklearn import utils\n",
    "from sklearn.linear_model import LogisticRegression\n",
    "from sklearn.metrics import roc_auc_score\n",
    "from sklearn.metrics import accuracy_score\n",
    "from sklearn.metrics import classification_report\n",
    "from sklearn.model_selection import train_test_split\n",
    "import gensim\n",
    "import gensim.models.doc2vec as doc2vec\n",
    "from gensim.models.doc2vec import TaggedDocument\n",
    "import re"
   ]
  },
  {
   "cell_type": "code",
   "execution_count": 90,
   "metadata": {},
   "outputs": [],
   "source": [
    "df = pd.read_csv('final_test_w_name.csv')"
   ]
  },
  {
   "cell_type": "code",
   "execution_count": 91,
   "metadata": {},
   "outputs": [],
   "source": [
    "top_20 = ['AskReddit', 'dankmemes', 'memes', 'teenagers', 'aww', 'RocketLeagueExchange',\n",
    "         'Showerthoughts', 'funny', 'me_irl', 'freefolk', 'gameofthrones', 'pics',\n",
    "         'NoStupidQuestions', 'AskOuija', 'unpopularopinion', 'gaming', 'videos', 'politics',\n",
    "         'AmItheAsshole', 'Jokes']\n"
   ]
  },
  {
   "cell_type": "markdown",
   "metadata": {},
   "source": [
    "### Cleaning "
   ]
  },
  {
   "cell_type": "code",
   "execution_count": 195,
   "metadata": {},
   "outputs": [],
   "source": [
    "# get only the subreddits that we want\n",
    "data = df[df['name'].isin(top_20)].copy()\n",
    "\n",
    "# mark which posts are missing body \n",
    "data['text'] = data['title'].fillna('NaNtext')\n",
    "\n",
    "# combine text from title and body \n",
    "data['all_text'] = data['title']+ ' ' + data['text']\n",
    "\n",
    "# remove links to make text processor happier\n",
    "data['all_text'] = data['all_text'].str.replace('http\\S+|www.\\S+', 'link', case=False)"
   ]
  },
  {
   "cell_type": "code",
   "execution_count": 94,
   "metadata": {},
   "outputs": [],
   "source": [
    "def label_sentences(corpus, label_type):\n",
    "    \"\"\"\n",
    "    Gensim's Doc2Vec implementation requires each document/paragraph to have a label associated with it.\n",
    "    We do this by using the TaggedDocument method. The format will be \"TRAIN_i\" or \"TEST_i\" where \"i\" is\n",
    "    a dummy index of the post.\n",
    "    \"\"\"\n",
    "    labeled = []\n",
    "    for i, v in enumerate(corpus):\n",
    "        label = label_type + '_' + str(i)\n",
    "        labeled.append(doc2vec.TaggedDocument(v.split(), [label]))\n",
    "    return labeled\n"
   ]
  },
  {
   "cell_type": "code",
   "execution_count": 97,
   "metadata": {},
   "outputs": [],
   "source": [
    "X_train, X_test, y_train, y_test = train_test_split(data.all_text, data.name, random_state=0, test_size=0.3)\n",
    "X_train = label_sentences(X_train, 'Train')\n",
    "X_test = label_sentences(X_test, 'Test')\n",
    "all_data = X_train + X_test"
   ]
  },
  {
   "cell_type": "code",
   "execution_count": 296,
   "metadata": {},
   "outputs": [
    {
     "data": {
      "text/plain": [
       "TaggedDocument(words=['Soldiers', 'of', 'Reddit,', 'what', 'were', 'the', 'most', 'unfortunate', 'name/rank', 'combinations', \"you've\", 'seen', 'and', 'how', 'did', 'it', 'work', 'out', 'for', 'them?', 'Soldiers', 'of', 'Reddit,', 'what', 'were', 'the', 'most', 'unfortunate', 'name/rank', 'combinations', \"you've\", 'seen', 'and', 'how', 'did', 'it', 'work', 'out', 'for', 'them?'], tags=['Test_0'])"
      ]
     },
     "execution_count": 296,
     "metadata": {},
     "output_type": "execute_result"
    }
   ],
   "source": [
    "X_test[0]"
   ]
  },
  {
   "cell_type": "code",
   "execution_count": 99,
   "metadata": {},
   "outputs": [
    {
     "name": "stderr",
     "output_type": "stream",
     "text": [
      "100%|██████████| 22695/22695 [00:00<00:00, 1074473.19it/s]\n",
      "100%|██████████| 22695/22695 [00:00<00:00, 1797049.83it/s]\n",
      "100%|██████████| 22695/22695 [00:00<00:00, 1931805.77it/s]\n",
      "100%|██████████| 22695/22695 [00:00<00:00, 2170753.90it/s]\n",
      "100%|██████████| 22695/22695 [00:00<00:00, 1297516.86it/s]\n",
      "100%|██████████| 22695/22695 [00:00<00:00, 2260287.06it/s]\n",
      "100%|██████████| 22695/22695 [00:00<00:00, 2235077.82it/s]\n",
      "100%|██████████| 22695/22695 [00:00<00:00, 1718660.48it/s]\n",
      "100%|██████████| 22695/22695 [00:00<00:00, 2302383.16it/s]\n",
      "100%|██████████| 22695/22695 [00:00<00:00, 2366549.72it/s]\n",
      "100%|██████████| 22695/22695 [00:00<00:00, 2468741.36it/s]\n",
      "100%|██████████| 22695/22695 [00:00<00:00, 2287554.77it/s]\n",
      "100%|██████████| 22695/22695 [00:00<00:00, 3013572.97it/s]\n",
      "100%|██████████| 22695/22695 [00:00<00:00, 2591959.95it/s]\n",
      "100%|██████████| 22695/22695 [00:00<00:00, 1939243.97it/s]\n",
      "100%|██████████| 22695/22695 [00:00<00:00, 1996722.03it/s]\n",
      "100%|██████████| 22695/22695 [00:00<00:00, 2121645.10it/s]\n",
      "100%|██████████| 22695/22695 [00:00<00:00, 1845405.94it/s]\n",
      "100%|██████████| 22695/22695 [00:00<00:00, 2349609.49it/s]\n",
      "100%|██████████| 22695/22695 [00:00<00:00, 1789987.20it/s]\n",
      "100%|██████████| 22695/22695 [00:00<00:00, 2401537.18it/s]\n",
      "100%|██████████| 22695/22695 [00:00<00:00, 1782378.93it/s]\n",
      "100%|██████████| 22695/22695 [00:00<00:00, 2320568.73it/s]\n",
      "100%|██████████| 22695/22695 [00:00<00:00, 2089739.62it/s]\n",
      "100%|██████████| 22695/22695 [00:00<00:00, 1750873.31it/s]\n",
      "100%|██████████| 22695/22695 [00:00<00:00, 2403113.51it/s]\n",
      "100%|██████████| 22695/22695 [00:00<00:00, 2385946.69it/s]\n",
      "100%|██████████| 22695/22695 [00:00<00:00, 2358458.15it/s]\n",
      "100%|██████████| 22695/22695 [00:00<00:00, 2069386.93it/s]\n",
      "100%|██████████| 22695/22695 [00:00<00:00, 2065839.00it/s]\n",
      "100%|██████████| 22695/22695 [00:00<00:00, 2296606.09it/s]\n"
     ]
    }
   ],
   "source": [
    "model_dbow = Doc2Vec(dm=0, vector_size=300, negative=5, min_count=1, alpha=0.065, min_alpha=0.065)\n",
    "model_dbow.build_vocab([x for x in tqdm(all_data)])\n",
    "\n",
    "for epoch in range(30):\n",
    "    model_dbow.train(utils.shuffle([x for x in tqdm(all_data)]), total_examples=len(all_data), epochs=1)\n",
    "    model_dbow.alpha -= 0.002\n",
    "    model_dbow.min_alpha = model_dbow.alpha"
   ]
  },
  {
   "cell_type": "code",
   "execution_count": 100,
   "metadata": {},
   "outputs": [],
   "source": [
    "def get_vectors(model, corpus_size, vectors_size, vectors_type):\n",
    "    \"\"\"\n",
    "    Get vectors from trained doc2vec model\n",
    "    :param doc2vec_model: Trained Doc2Vec model\n",
    "    :param corpus_size: Size of the data\n",
    "    :param vectors_size: Size of the embedding vectors\n",
    "    :param vectors_type: Training or Testing vectors\n",
    "    :return: list of vectors\n",
    "    \"\"\"\n",
    "    vectors = np.zeros((corpus_size, vectors_size))\n",
    "    for i in range(0, corpus_size):\n",
    "        prefix = vectors_type + '_' + str(i)\n",
    "        vectors[i] = model.docvecs[prefix]\n",
    "    return vectors\n",
    "    \n",
    "train_vectors_dbow = get_vectors(model_dbow, len(X_train), 300, 'Train')\n",
    "test_vectors_dbow = get_vectors(model_dbow, len(X_test), 300, 'Test')"
   ]
  },
  {
   "cell_type": "code",
   "execution_count": 301,
   "metadata": {},
   "outputs": [
    {
     "data": {
      "text/plain": [
       "(300,)"
      ]
     },
     "execution_count": 301,
     "metadata": {},
     "output_type": "execute_result"
    }
   ],
   "source": []
  },
  {
   "cell_type": "code",
   "execution_count": 101,
   "metadata": {},
   "outputs": [],
   "source": [
    "subreddits = data.name.unique()"
   ]
  },
  {
   "cell_type": "code",
   "execution_count": 102,
   "metadata": {},
   "outputs": [
    {
     "name": "stderr",
     "output_type": "stream",
     "text": [
      "/anaconda3/lib/python3.6/site-packages/sklearn/linear_model/logistic.py:433: FutureWarning: Default solver will be changed to 'lbfgs' in 0.22. Specify a solver to silence this warning.\n",
      "  FutureWarning)\n",
      "/anaconda3/lib/python3.6/site-packages/sklearn/linear_model/logistic.py:460: FutureWarning: Default multi_class will be changed to 'auto' in 0.22. Specify the multi_class option to silence this warning.\n",
      "  \"this warning.\", FutureWarning)\n"
     ]
    },
    {
     "name": "stdout",
     "output_type": "stream",
     "text": [
      "CPU times: user 3min 8s, sys: 1.94 s, total: 3min 10s\n",
      "Wall time: 3min 33s\n"
     ]
    }
   ],
   "source": [
    "%%time\n",
    "\n",
    "logreg = LogisticRegression(n_jobs=1, C=1e5)\n",
    "logreg = logreg.fit(train_vectors_dbow, y_train)"
   ]
  },
  {
   "cell_type": "code",
   "execution_count": null,
   "metadata": {},
   "outputs": [],
   "source": [
    "y_pred = logreg.predict(test_vectors_dbow)\n",
    "print('accuracy %s' % accuracy_score(y_pred, y_test))\n",
    "print(classification_report(y_test, y_pred,target_names=subreddits))\n",
    "\n"
   ]
  },
  {
   "cell_type": "code",
   "execution_count": 308,
   "metadata": {},
   "outputs": [
    {
     "data": {
      "text/plain": [
       "0.7191816029206933"
      ]
     },
     "execution_count": 308,
     "metadata": {},
     "output_type": "execute_result"
    }
   ],
   "source": [
    "logreg.predict_proba([test_vectors_dbow[0]]).max()"
   ]
  },
  {
   "cell_type": "code",
   "execution_count": null,
   "metadata": {},
   "outputs": [],
   "source": [
    "output = pd.DataFrame(logreg.predict_proba(test_vectors_dbow[0]), columns=logreg.classes_).T.nlargest(5, [0]).reset_index().values\n",
    "print(output)"
   ]
  },
  {
   "cell_type": "code",
   "execution_count": 280,
   "metadata": {},
   "outputs": [],
   "source": [
    "output = pd.DataFrame(logreg.predict_proba(test_vectors_dbow), \n",
    "                      columns=logreg.classes_).T.sort_values(0, ascending=False).head(5)"
   ]
  },
  {
   "cell_type": "code",
   "execution_count": null,
   "metadata": {},
   "outputs": [],
   "source": [
    "keys = list(output.keys())\n",
    "values = list(output.values)"
   ]
  },
  {
   "cell_type": "code",
   "execution_count": 281,
   "metadata": {},
   "outputs": [
    {
     "data": {
      "text/html": [
       "<div>\n",
       "<style scoped>\n",
       "    .dataframe tbody tr th:only-of-type {\n",
       "        vertical-align: middle;\n",
       "    }\n",
       "\n",
       "    .dataframe tbody tr th {\n",
       "        vertical-align: top;\n",
       "    }\n",
       "\n",
       "    .dataframe thead th {\n",
       "        text-align: right;\n",
       "    }\n",
       "</style>\n",
       "<table border=\"1\" class=\"dataframe\">\n",
       "  <thead>\n",
       "    <tr style=\"text-align: right;\">\n",
       "      <th></th>\n",
       "      <th>0</th>\n",
       "      <th>1</th>\n",
       "      <th>2</th>\n",
       "      <th>3</th>\n",
       "      <th>4</th>\n",
       "      <th>5</th>\n",
       "      <th>6</th>\n",
       "      <th>7</th>\n",
       "      <th>8</th>\n",
       "      <th>9</th>\n",
       "      <th>...</th>\n",
       "      <th>6799</th>\n",
       "      <th>6800</th>\n",
       "      <th>6801</th>\n",
       "      <th>6802</th>\n",
       "      <th>6803</th>\n",
       "      <th>6804</th>\n",
       "      <th>6805</th>\n",
       "      <th>6806</th>\n",
       "      <th>6807</th>\n",
       "      <th>6808</th>\n",
       "    </tr>\n",
       "  </thead>\n",
       "  <tbody>\n",
       "    <tr>\n",
       "      <th>AskReddit</th>\n",
       "      <td>0.719182</td>\n",
       "      <td>0.000166</td>\n",
       "      <td>0.001668</td>\n",
       "      <td>0.000233</td>\n",
       "      <td>0.065510</td>\n",
       "      <td>0.867567</td>\n",
       "      <td>0.039552</td>\n",
       "      <td>1.133415e-01</td>\n",
       "      <td>0.000211</td>\n",
       "      <td>0.000425</td>\n",
       "      <td>...</td>\n",
       "      <td>0.843565</td>\n",
       "      <td>0.015640</td>\n",
       "      <td>0.001175</td>\n",
       "      <td>0.000289</td>\n",
       "      <td>0.239206</td>\n",
       "      <td>0.723519</td>\n",
       "      <td>0.000632</td>\n",
       "      <td>0.001538</td>\n",
       "      <td>0.051981</td>\n",
       "      <td>0.003911</td>\n",
       "    </tr>\n",
       "    <tr>\n",
       "      <th>NoStupidQuestions</th>\n",
       "      <td>0.198292</td>\n",
       "      <td>0.000325</td>\n",
       "      <td>0.000565</td>\n",
       "      <td>0.003810</td>\n",
       "      <td>0.202043</td>\n",
       "      <td>0.025400</td>\n",
       "      <td>0.019585</td>\n",
       "      <td>9.497666e-08</td>\n",
       "      <td>0.006216</td>\n",
       "      <td>0.000861</td>\n",
       "      <td>...</td>\n",
       "      <td>0.001133</td>\n",
       "      <td>0.002168</td>\n",
       "      <td>0.109431</td>\n",
       "      <td>0.002457</td>\n",
       "      <td>0.008616</td>\n",
       "      <td>0.014810</td>\n",
       "      <td>0.004958</td>\n",
       "      <td>0.001651</td>\n",
       "      <td>0.005750</td>\n",
       "      <td>0.018593</td>\n",
       "    </tr>\n",
       "    <tr>\n",
       "      <th>aww</th>\n",
       "      <td>0.032162</td>\n",
       "      <td>0.053302</td>\n",
       "      <td>0.001234</td>\n",
       "      <td>0.057288</td>\n",
       "      <td>0.060131</td>\n",
       "      <td>0.001770</td>\n",
       "      <td>0.003011</td>\n",
       "      <td>1.812237e-01</td>\n",
       "      <td>0.041717</td>\n",
       "      <td>0.116237</td>\n",
       "      <td>...</td>\n",
       "      <td>0.000058</td>\n",
       "      <td>0.317034</td>\n",
       "      <td>0.013864</td>\n",
       "      <td>0.005272</td>\n",
       "      <td>0.021695</td>\n",
       "      <td>0.001646</td>\n",
       "      <td>0.077025</td>\n",
       "      <td>0.338731</td>\n",
       "      <td>0.000040</td>\n",
       "      <td>0.015457</td>\n",
       "    </tr>\n",
       "    <tr>\n",
       "      <th>videos</th>\n",
       "      <td>0.019397</td>\n",
       "      <td>0.002936</td>\n",
       "      <td>0.031000</td>\n",
       "      <td>0.009492</td>\n",
       "      <td>0.007201</td>\n",
       "      <td>0.000043</td>\n",
       "      <td>0.002974</td>\n",
       "      <td>5.028156e-05</td>\n",
       "      <td>0.008597</td>\n",
       "      <td>0.052924</td>\n",
       "      <td>...</td>\n",
       "      <td>0.000627</td>\n",
       "      <td>0.000049</td>\n",
       "      <td>0.001204</td>\n",
       "      <td>0.011836</td>\n",
       "      <td>0.037536</td>\n",
       "      <td>0.060387</td>\n",
       "      <td>0.012377</td>\n",
       "      <td>0.007218</td>\n",
       "      <td>0.001456</td>\n",
       "      <td>0.001053</td>\n",
       "    </tr>\n",
       "    <tr>\n",
       "      <th>dankmemes</th>\n",
       "      <td>0.007865</td>\n",
       "      <td>0.101530</td>\n",
       "      <td>0.163477</td>\n",
       "      <td>0.238520</td>\n",
       "      <td>0.152549</td>\n",
       "      <td>0.060502</td>\n",
       "      <td>0.136373</td>\n",
       "      <td>1.442626e-03</td>\n",
       "      <td>0.137343</td>\n",
       "      <td>0.168862</td>\n",
       "      <td>...</td>\n",
       "      <td>0.005698</td>\n",
       "      <td>0.023708</td>\n",
       "      <td>0.351215</td>\n",
       "      <td>0.018920</td>\n",
       "      <td>0.084532</td>\n",
       "      <td>0.019951</td>\n",
       "      <td>0.204980</td>\n",
       "      <td>0.039190</td>\n",
       "      <td>0.020937</td>\n",
       "      <td>0.467817</td>\n",
       "    </tr>\n",
       "  </tbody>\n",
       "</table>\n",
       "<p>5 rows × 6809 columns</p>\n",
       "</div>"
      ],
      "text/plain": [
       "                       0         1         2         3         4         5     \\\n",
       "AskReddit          0.719182  0.000166  0.001668  0.000233  0.065510  0.867567   \n",
       "NoStupidQuestions  0.198292  0.000325  0.000565  0.003810  0.202043  0.025400   \n",
       "aww                0.032162  0.053302  0.001234  0.057288  0.060131  0.001770   \n",
       "videos             0.019397  0.002936  0.031000  0.009492  0.007201  0.000043   \n",
       "dankmemes          0.007865  0.101530  0.163477  0.238520  0.152549  0.060502   \n",
       "\n",
       "                       6             7         8         9     ...      6799  \\\n",
       "AskReddit          0.039552  1.133415e-01  0.000211  0.000425  ...  0.843565   \n",
       "NoStupidQuestions  0.019585  9.497666e-08  0.006216  0.000861  ...  0.001133   \n",
       "aww                0.003011  1.812237e-01  0.041717  0.116237  ...  0.000058   \n",
       "videos             0.002974  5.028156e-05  0.008597  0.052924  ...  0.000627   \n",
       "dankmemes          0.136373  1.442626e-03  0.137343  0.168862  ...  0.005698   \n",
       "\n",
       "                       6800      6801      6802      6803      6804      6805  \\\n",
       "AskReddit          0.015640  0.001175  0.000289  0.239206  0.723519  0.000632   \n",
       "NoStupidQuestions  0.002168  0.109431  0.002457  0.008616  0.014810  0.004958   \n",
       "aww                0.317034  0.013864  0.005272  0.021695  0.001646  0.077025   \n",
       "videos             0.000049  0.001204  0.011836  0.037536  0.060387  0.012377   \n",
       "dankmemes          0.023708  0.351215  0.018920  0.084532  0.019951  0.204980   \n",
       "\n",
       "                       6806      6807      6808  \n",
       "AskReddit          0.001538  0.051981  0.003911  \n",
       "NoStupidQuestions  0.001651  0.005750  0.018593  \n",
       "aww                0.338731  0.000040  0.015457  \n",
       "videos             0.007218  0.001456  0.001053  \n",
       "dankmemes          0.039190  0.020937  0.467817  \n",
       "\n",
       "[5 rows x 6809 columns]"
      ]
     },
     "execution_count": 281,
     "metadata": {},
     "output_type": "execute_result"
    }
   ],
   "source": [
    "output"
   ]
  },
  {
   "cell_type": "code",
   "execution_count": 218,
   "metadata": {},
   "outputs": [
    {
     "data": {
      "text/plain": [
       "AskReddit            0.719182\n",
       "NoStupidQuestions    0.198292\n",
       "aww                  0.032162\n",
       "videos               0.019397\n",
       "dankmemes            0.007865\n",
       "Name: 0, dtype: float64"
      ]
     },
     "execution_count": 218,
     "metadata": {},
     "output_type": "execute_result"
    }
   ],
   "source": [
    "output.T.nlargest(5, [0])[0]"
   ]
  },
  {
   "cell_type": "code",
   "execution_count": 299,
   "metadata": {},
   "outputs": [
    {
     "data": {
      "text/plain": [
       "(5, 6809)"
      ]
     },
     "execution_count": 299,
     "metadata": {},
     "output_type": "execute_result"
    }
   ],
   "source": [
    "output.shape"
   ]
  },
  {
   "cell_type": "code",
   "execution_count": 224,
   "metadata": {},
   "outputs": [],
   "source": [
    "keys = list(output.T.nlargest(5, [0])[0].keys())"
   ]
  },
  {
   "cell_type": "code",
   "execution_count": 225,
   "metadata": {},
   "outputs": [],
   "source": [
    "values = list(output.T.nlargest(5, [0])[0].values)"
   ]
  },
  {
   "cell_type": "code",
   "execution_count": 231,
   "metadata": {},
   "outputs": [],
   "source": [
    "reddits = {}\n",
    "for k,v in zip(keys, values):\n",
    "    reddits[k] = v\n"
   ]
  },
  {
   "cell_type": "code",
   "execution_count": 232,
   "metadata": {},
   "outputs": [
    {
     "data": {
      "text/plain": [
       "{'AskReddit': 0.7191816029206933,\n",
       " 'NoStupidQuestions': 0.1982921569224143,\n",
       " 'aww': 0.03216232376356752,\n",
       " 'videos': 0.019397442005865632,\n",
       " 'dankmemes': 0.007864788112708283}"
      ]
     },
     "execution_count": 232,
     "metadata": {},
     "output_type": "execute_result"
    }
   ],
   "source": [
    "reddits"
   ]
  },
  {
   "cell_type": "code",
   "execution_count": 241,
   "metadata": {},
   "outputs": [
    {
     "name": "stdout",
     "output_type": "stream",
     "text": [
      "AskReddit\n",
      "0.7191816029206933\n",
      "NoStupidQuestions\n",
      "0.1982921569224143\n"
     ]
    }
   ],
   "source": [
    "print(list(reddits.keys())[0])\n",
    "print(reddits[list(reddits.keys())[0]])\n",
    "print(list(reddits.keys())[1])\n",
    "print(reddits[list(reddits.keys())[1]])"
   ]
  },
  {
   "cell_type": "code",
   "execution_count": 111,
   "metadata": {},
   "outputs": [
    {
     "name": "stdout",
     "output_type": "stream",
     "text": [
      "['AskReddit' 'freefolk' 'freefolk']\n"
     ]
    }
   ],
   "source": [
    "print(y_pred[:3])"
   ]
  },
  {
   "cell_type": "code",
   "execution_count": 105,
   "metadata": {},
   "outputs": [],
   "source": [
    "import pickle\n",
    "\n",
    "# save doc2vec model\n",
    "model_dbow.save(\"doc2vec_model.pkl\")\n",
    "\n",
    "# save pickle model\n",
    "pickle.dump(logreg, open(\"logreg.pkl\", 'wb'))"
   ]
  },
  {
   "cell_type": "code",
   "execution_count": 106,
   "metadata": {},
   "outputs": [],
   "source": [
    "http://posthere.us-east-2.elasticbeanstalk.com/"
   ]
  },
  {
   "cell_type": "code",
   "execution_count": 34,
   "metadata": {},
   "outputs": [],
   "source": [
    "import requests, json\n",
    "url = \"http://posthere.us-east-2.elasticbeanstalk.com/api\"\n",
    "data = {'title': 'We have liftoff', 'body': 'Mac successfully deployed the API', 'image': 'no image bruh'}\n",
    "\n",
    "r = requests.post(url, data=json.dumps(data))"
   ]
  },
  {
   "cell_type": "code",
   "execution_count": 35,
   "metadata": {},
   "outputs": [
    {
     "data": {
      "text/plain": [
       "{'top_five': [['dankmemes', 0.3352851840055816],\n",
       "  ['memes', 0.26466100597315584],\n",
       "  ['teenagers', 0.2511384937251988],\n",
       "  ['funny', 0.04544956162290755],\n",
       "  ['freefolk', 0.02041078781064245]]}"
      ]
     },
     "execution_count": 35,
     "metadata": {},
     "output_type": "execute_result"
    }
   ],
   "source": [
    "r.json()"
   ]
  },
  {
   "cell_type": "code",
   "execution_count": 30,
   "metadata": {},
   "outputs": [],
   "source": [
    "import requests, json\n",
    "url = \"http://buildweekredditpredict-env.zfm3nfznwp.us-east-1.elasticbeanstalk.com\"\n",
    "data = {'title': 'We have liftoff', 'body': 'Mac successfully deployed the API', 'image': 'no image bruh'}\n",
    "\n",
    "r = requests.post(url, data=json.dumps(data))"
   ]
  },
  {
   "cell_type": "code",
   "execution_count": 31,
   "metadata": {},
   "outputs": [
    {
     "data": {
      "text/plain": [
       "{'top_five': [['dankmemes', 0.33886038800121293],\n",
       "  ['teenagers', 0.25876136585078297],\n",
       "  ['memes', 0.24985797538726495],\n",
       "  ['funny', 0.04479723964769656],\n",
       "  ['gaming', 0.020337102222111735]]}"
      ]
     },
     "execution_count": 31,
     "metadata": {},
     "output_type": "execute_result"
    }
   ],
   "source": [
    "r.json()"
   ]
  },
  {
   "cell_type": "code",
   "execution_count": 52,
   "metadata": {},
   "outputs": [],
   "source": [
    "# http://buildweekredditpredict-env.zfm3nfznwp.us-east-1.elasticbeanstalk.com\n",
    "# #http://deploy-env.pq57gi7hm8.us-east-1.elasticbeanstalk.com/\n",
    "    \n",
    "url = \"http://deploy-env.pq57gi7hm8.us-east-1.elasticbeanstalk.com/\"\n",
    "data = {'int1': 1333, 'int2': 2222}\n",
    "\n",
    "r = requests.post(url, data=json.dumps(data))"
   ]
  },
  {
   "cell_type": "code",
   "execution_count": 53,
   "metadata": {},
   "outputs": [
    {
     "ename": "JSONDecodeError",
     "evalue": "Expecting value: line 1 column 1 (char 0)",
     "output_type": "error",
     "traceback": [
      "\u001b[0;31m---------------------------------------------------------------------------\u001b[0m",
      "\u001b[0;31mJSONDecodeError\u001b[0m                           Traceback (most recent call last)",
      "\u001b[0;32m<ipython-input-53-52b7ec8d97cc>\u001b[0m in \u001b[0;36m<module>\u001b[0;34m\u001b[0m\n\u001b[0;32m----> 1\u001b[0;31m \u001b[0mr\u001b[0m\u001b[0;34m.\u001b[0m\u001b[0mjson\u001b[0m\u001b[0;34m(\u001b[0m\u001b[0;34m)\u001b[0m\u001b[0;34m\u001b[0m\u001b[0;34m\u001b[0m\u001b[0m\n\u001b[0m",
      "\u001b[0;32m/anaconda3/lib/python3.6/site-packages/requests/models.py\u001b[0m in \u001b[0;36mjson\u001b[0;34m(self, **kwargs)\u001b[0m\n\u001b[1;32m    895\u001b[0m                     \u001b[0;31m# used.\u001b[0m\u001b[0;34m\u001b[0m\u001b[0;34m\u001b[0m\u001b[0;34m\u001b[0m\u001b[0m\n\u001b[1;32m    896\u001b[0m                     \u001b[0;32mpass\u001b[0m\u001b[0;34m\u001b[0m\u001b[0;34m\u001b[0m\u001b[0m\n\u001b[0;32m--> 897\u001b[0;31m         \u001b[0;32mreturn\u001b[0m \u001b[0mcomplexjson\u001b[0m\u001b[0;34m.\u001b[0m\u001b[0mloads\u001b[0m\u001b[0;34m(\u001b[0m\u001b[0mself\u001b[0m\u001b[0;34m.\u001b[0m\u001b[0mtext\u001b[0m\u001b[0;34m,\u001b[0m \u001b[0;34m**\u001b[0m\u001b[0mkwargs\u001b[0m\u001b[0;34m)\u001b[0m\u001b[0;34m\u001b[0m\u001b[0;34m\u001b[0m\u001b[0m\n\u001b[0m\u001b[1;32m    898\u001b[0m \u001b[0;34m\u001b[0m\u001b[0m\n\u001b[1;32m    899\u001b[0m     \u001b[0;34m@\u001b[0m\u001b[0mproperty\u001b[0m\u001b[0;34m\u001b[0m\u001b[0;34m\u001b[0m\u001b[0m\n",
      "\u001b[0;32m/anaconda3/lib/python3.6/json/__init__.py\u001b[0m in \u001b[0;36mloads\u001b[0;34m(s, encoding, cls, object_hook, parse_float, parse_int, parse_constant, object_pairs_hook, **kw)\u001b[0m\n\u001b[1;32m    352\u001b[0m             \u001b[0mparse_int\u001b[0m \u001b[0;32mis\u001b[0m \u001b[0;32mNone\u001b[0m \u001b[0;32mand\u001b[0m \u001b[0mparse_float\u001b[0m \u001b[0;32mis\u001b[0m \u001b[0;32mNone\u001b[0m \u001b[0;32mand\u001b[0m\u001b[0;34m\u001b[0m\u001b[0;34m\u001b[0m\u001b[0m\n\u001b[1;32m    353\u001b[0m             parse_constant is None and object_pairs_hook is None and not kw):\n\u001b[0;32m--> 354\u001b[0;31m         \u001b[0;32mreturn\u001b[0m \u001b[0m_default_decoder\u001b[0m\u001b[0;34m.\u001b[0m\u001b[0mdecode\u001b[0m\u001b[0;34m(\u001b[0m\u001b[0ms\u001b[0m\u001b[0;34m)\u001b[0m\u001b[0;34m\u001b[0m\u001b[0;34m\u001b[0m\u001b[0m\n\u001b[0m\u001b[1;32m    355\u001b[0m     \u001b[0;32mif\u001b[0m \u001b[0mcls\u001b[0m \u001b[0;32mis\u001b[0m \u001b[0;32mNone\u001b[0m\u001b[0;34m:\u001b[0m\u001b[0;34m\u001b[0m\u001b[0;34m\u001b[0m\u001b[0m\n\u001b[1;32m    356\u001b[0m         \u001b[0mcls\u001b[0m \u001b[0;34m=\u001b[0m \u001b[0mJSONDecoder\u001b[0m\u001b[0;34m\u001b[0m\u001b[0;34m\u001b[0m\u001b[0m\n",
      "\u001b[0;32m/anaconda3/lib/python3.6/json/decoder.py\u001b[0m in \u001b[0;36mdecode\u001b[0;34m(self, s, _w)\u001b[0m\n\u001b[1;32m    337\u001b[0m \u001b[0;34m\u001b[0m\u001b[0m\n\u001b[1;32m    338\u001b[0m         \"\"\"\n\u001b[0;32m--> 339\u001b[0;31m         \u001b[0mobj\u001b[0m\u001b[0;34m,\u001b[0m \u001b[0mend\u001b[0m \u001b[0;34m=\u001b[0m \u001b[0mself\u001b[0m\u001b[0;34m.\u001b[0m\u001b[0mraw_decode\u001b[0m\u001b[0;34m(\u001b[0m\u001b[0ms\u001b[0m\u001b[0;34m,\u001b[0m \u001b[0midx\u001b[0m\u001b[0;34m=\u001b[0m\u001b[0m_w\u001b[0m\u001b[0;34m(\u001b[0m\u001b[0ms\u001b[0m\u001b[0;34m,\u001b[0m \u001b[0;36m0\u001b[0m\u001b[0;34m)\u001b[0m\u001b[0;34m.\u001b[0m\u001b[0mend\u001b[0m\u001b[0;34m(\u001b[0m\u001b[0;34m)\u001b[0m\u001b[0;34m)\u001b[0m\u001b[0;34m\u001b[0m\u001b[0;34m\u001b[0m\u001b[0m\n\u001b[0m\u001b[1;32m    340\u001b[0m         \u001b[0mend\u001b[0m \u001b[0;34m=\u001b[0m \u001b[0m_w\u001b[0m\u001b[0;34m(\u001b[0m\u001b[0ms\u001b[0m\u001b[0;34m,\u001b[0m \u001b[0mend\u001b[0m\u001b[0;34m)\u001b[0m\u001b[0;34m.\u001b[0m\u001b[0mend\u001b[0m\u001b[0;34m(\u001b[0m\u001b[0;34m)\u001b[0m\u001b[0;34m\u001b[0m\u001b[0;34m\u001b[0m\u001b[0m\n\u001b[1;32m    341\u001b[0m         \u001b[0;32mif\u001b[0m \u001b[0mend\u001b[0m \u001b[0;34m!=\u001b[0m \u001b[0mlen\u001b[0m\u001b[0;34m(\u001b[0m\u001b[0ms\u001b[0m\u001b[0;34m)\u001b[0m\u001b[0;34m:\u001b[0m\u001b[0;34m\u001b[0m\u001b[0;34m\u001b[0m\u001b[0m\n",
      "\u001b[0;32m/anaconda3/lib/python3.6/json/decoder.py\u001b[0m in \u001b[0;36mraw_decode\u001b[0;34m(self, s, idx)\u001b[0m\n\u001b[1;32m    355\u001b[0m             \u001b[0mobj\u001b[0m\u001b[0;34m,\u001b[0m \u001b[0mend\u001b[0m \u001b[0;34m=\u001b[0m \u001b[0mself\u001b[0m\u001b[0;34m.\u001b[0m\u001b[0mscan_once\u001b[0m\u001b[0;34m(\u001b[0m\u001b[0ms\u001b[0m\u001b[0;34m,\u001b[0m \u001b[0midx\u001b[0m\u001b[0;34m)\u001b[0m\u001b[0;34m\u001b[0m\u001b[0;34m\u001b[0m\u001b[0m\n\u001b[1;32m    356\u001b[0m         \u001b[0;32mexcept\u001b[0m \u001b[0mStopIteration\u001b[0m \u001b[0;32mas\u001b[0m \u001b[0merr\u001b[0m\u001b[0;34m:\u001b[0m\u001b[0;34m\u001b[0m\u001b[0;34m\u001b[0m\u001b[0m\n\u001b[0;32m--> 357\u001b[0;31m             \u001b[0;32mraise\u001b[0m \u001b[0mJSONDecodeError\u001b[0m\u001b[0;34m(\u001b[0m\u001b[0;34m\"Expecting value\"\u001b[0m\u001b[0;34m,\u001b[0m \u001b[0ms\u001b[0m\u001b[0;34m,\u001b[0m \u001b[0merr\u001b[0m\u001b[0;34m.\u001b[0m\u001b[0mvalue\u001b[0m\u001b[0;34m)\u001b[0m \u001b[0;32mfrom\u001b[0m \u001b[0;32mNone\u001b[0m\u001b[0;34m\u001b[0m\u001b[0;34m\u001b[0m\u001b[0m\n\u001b[0m\u001b[1;32m    358\u001b[0m         \u001b[0;32mreturn\u001b[0m \u001b[0mobj\u001b[0m\u001b[0;34m,\u001b[0m \u001b[0mend\u001b[0m\u001b[0;34m\u001b[0m\u001b[0;34m\u001b[0m\u001b[0m\n",
      "\u001b[0;31mJSONDecodeError\u001b[0m: Expecting value: line 1 column 1 (char 0)"
     ]
    }
   ],
   "source": [
    "r.json()"
   ]
  },
  {
   "cell_type": "code",
   "execution_count": 11,
   "metadata": {},
   "outputs": [
    {
     "data": {
      "text/plain": [
       "[['dankmemes', 0.3869077753350462],\n",
       " ['teenagers', 0.23941194829905826],\n",
       " ['memes', 0.22666111663762145],\n",
       " ['funny', 0.037268128860909806],\n",
       " ['aww', 0.03133052814250931]]"
      ]
     },
     "execution_count": 11,
     "metadata": {},
     "output_type": "execute_result"
    }
   ],
   "source": [
    "r.json()['top_five']"
   ]
  },
  {
   "cell_type": "code",
   "execution_count": 4,
   "metadata": {},
   "outputs": [
    {
     "data": {
      "text/plain": [
       "[['dankmemes', 0.2688623753960543],\n",
       " ['memes', 0.21896358089555118],\n",
       " ['me_irl', 0.1388451406380714],\n",
       " ['funny', 0.09959079999149276],\n",
       " ['teenagers', 0.09541713668949187]]"
      ]
     },
     "execution_count": 4,
     "metadata": {},
     "output_type": "execute_result"
    }
   ],
   "source": [
    "r.json()['top_five']"
   ]
  },
  {
   "cell_type": "code",
   "execution_count": 9,
   "metadata": {},
   "outputs": [
    {
     "data": {
      "text/plain": [
       "[['dankmemes', 0.3676956062084892],\n",
       " ['memes', 0.24361949634908672],\n",
       " ['teenagers', 0.16162106985196262],\n",
       " ['funny', 0.07844333309922076],\n",
       " ['freefolk', 0.03391817188333424]]"
      ]
     },
     "execution_count": 9,
     "metadata": {},
     "output_type": "execute_result"
    }
   ],
   "source": [
    "r.json()['top_five']"
   ]
  },
  {
   "cell_type": "code",
   "execution_count": 10,
   "metadata": {},
   "outputs": [],
   "source": [
    "import requests, json\n",
    "url = \"http://127.0.0.1:5000/\"\n",
    "data = {'int1': 144, 'int2': 444}\n",
    "\n",
    "r = requests.post(url, data=json.dumps(data))"
   ]
  },
  {
   "cell_type": "code",
   "execution_count": 11,
   "metadata": {},
   "outputs": [
    {
     "data": {
      "text/plain": [
       "[['RESULT', 500], ['report', 600], ['show_inp', 700]]"
      ]
     },
     "execution_count": 11,
     "metadata": {},
     "output_type": "execute_result"
    }
   ],
   "source": [
    "r.json()"
   ]
  },
  {
   "cell_type": "code",
   "execution_count": null,
   "metadata": {},
   "outputs": [],
   "source": []
  }
 ],
 "metadata": {
  "kernelspec": {
   "display_name": "Python 3",
   "language": "python",
   "name": "python3"
  },
  "language_info": {
   "codemirror_mode": {
    "name": "ipython",
    "version": 3
   },
   "file_extension": ".py",
   "mimetype": "text/x-python",
   "name": "python",
   "nbconvert_exporter": "python",
   "pygments_lexer": "ipython3",
   "version": "3.6.8"
  }
 },
 "nbformat": 4,
 "nbformat_minor": 2
}
