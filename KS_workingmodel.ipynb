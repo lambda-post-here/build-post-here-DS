{
 "cells": [
  {
   "cell_type": "markdown",
   "metadata": {},
   "source": [
    "### Imports"
   ]
  },
  {
   "cell_type": "code",
   "execution_count": 1,
   "metadata": {},
   "outputs": [],
   "source": [
    "import pandas as pd\n",
    "import numpy as np\n",
    "from tqdm import tqdm\n",
    "tqdm.pandas(desc=\"progress-bar\")\n",
    "from gensim.models import Doc2Vec\n",
    "from sklearn import utils\n",
    "from sklearn.linear_model import LogisticRegression\n",
    "from sklearn.metrics import roc_auc_score\n",
    "from sklearn.metrics import accuracy_score\n",
    "from sklearn.metrics import classification_report\n",
    "from sklearn.model_selection import train_test_split\n",
    "import gensim\n",
    "import gensim.models.doc2vec as doc2vec\n",
    "from gensim.models.doc2vec import TaggedDocument\n",
    "import re"
   ]
  },
  {
   "cell_type": "markdown",
   "metadata": {},
   "source": [
    "### Load data & clean it up"
   ]
  },
  {
   "cell_type": "code",
   "execution_count": 206,
   "metadata": {},
   "outputs": [
    {
     "data": {
      "text/html": [
       "<div>\n",
       "<style scoped>\n",
       "    .dataframe tbody tr th:only-of-type {\n",
       "        vertical-align: middle;\n",
       "    }\n",
       "\n",
       "    .dataframe tbody tr th {\n",
       "        vertical-align: top;\n",
       "    }\n",
       "\n",
       "    .dataframe thead th {\n",
       "        text-align: right;\n",
       "    }\n",
       "</style>\n",
       "<table border=\"1\" class=\"dataframe\">\n",
       "  <thead>\n",
       "    <tr style=\"text-align: right;\">\n",
       "      <th></th>\n",
       "      <th>Unnamed: 0</th>\n",
       "      <th>submission_id</th>\n",
       "      <th>title</th>\n",
       "      <th>text</th>\n",
       "      <th>subreddit_id</th>\n",
       "      <th>name</th>\n",
       "      <th>all_text</th>\n",
       "    </tr>\n",
       "  </thead>\n",
       "  <tbody>\n",
       "    <tr>\n",
       "      <th>0</th>\n",
       "      <td>0</td>\n",
       "      <td>bcy7ky</td>\n",
       "      <td>15 minutes wait to play more?</td>\n",
       "      <td>So I dodged a game, all my mains banned or picked. I could have played a champ I don't know well, and cost my team a loss anyway. This is pretty rare for all my main champs to be picked/banned, so much so that I havn't dodged a game in months. More than I even remember, honestly it could be a year or more. \\r\\r\\n\\r\\r\\nSo here I am supposed to wait 15 mins for an online game. Is this ok? I'm trying to figure out what the logic behind this kind of punishment is.</td>\n",
       "      <td>2rfxx</td>\n",
       "      <td>leagueoflegends</td>\n",
       "      <td>15 minutes wait to play more? So I dodged a game, all my mains banned or picked. I could have played a champ I don't know well, and cost my team a loss anyway. This is pretty rare for all my main champs to be picked/banned, so much so that I havn't dodged a game in months. More than I even remember, honestly it could be a year or more. \\r\\r\\n\\r\\r\\nSo here I am supposed to wait 15 mins for an online game. Is this ok? I'm trying to figure out what the logic behind this kind of punishment is.</td>\n",
       "    </tr>\n",
       "    <tr>\n",
       "      <th>1</th>\n",
       "      <td>1</td>\n",
       "      <td>bcy6mf</td>\n",
       "      <td>League has to investigate possible fake game by Zen.</td>\n",
       "      <td>Obvious inting in game 5 right before TSM win the game. Intentionally de-morale the whole team and let TL come back.\\r\\r\\n\\r\\r\\nNo one is saying he got paid by gambling company or enemy team. But some investigation has to be done. This is just too strange to believe.</td>\n",
       "      <td>2rfxx</td>\n",
       "      <td>leagueoflegends</td>\n",
       "      <td>League has to investigate possible fake game by Zen. Obvious inting in game 5 right before TSM win the game. Intentionally de-morale the whole team and let TL come back.\\r\\r\\n\\r\\r\\nNo one is saying he got paid by gambling company or enemy team. But some investigation has to be done. This is just too strange to believe.</td>\n",
       "    </tr>\n",
       "    <tr>\n",
       "      <th>2</th>\n",
       "      <td>2</td>\n",
       "      <td>bcz8v5</td>\n",
       "      <td>Xmithie...the Goat, I told you so</td>\n",
       "      <td>Here's what I said about Xmithie years ago...\\r\\r\\n\\r\\r\\nIf I'm not mistaken, he's taken more different teams to worlds than anyone in LoL history..\\r\\r\\n\\r\\r\\nGrats to the GOAT... the best jungled ever to play in NA\\r\\r\\n\\r\\r\\nhttps://www.reddit.com/r/leagueoflegends/comments/3rnrgu/xmithieunderrated/</td>\n",
       "      <td>2rfxx</td>\n",
       "      <td>leagueoflegends</td>\n",
       "      <td>Xmithie...the Goat, I told you so Here's what I said about Xmithie years ago...\\r\\r\\n\\r\\r\\nIf I'm not mistaken, he's taken more different teams to worlds than anyone in LoL history..\\r\\r\\n\\r\\r\\nGrats to the GOAT... the best jungled ever to play in NA\\r\\r\\n\\r\\r\\nhttps://www.reddit.com/r/leagueoflegends/comments/3rnrgu/xmithieunderrated/</td>\n",
       "    </tr>\n",
       "    <tr>\n",
       "      <th>3</th>\n",
       "      <td>3</td>\n",
       "      <td>bcz9r2</td>\n",
       "      <td>Whatever happened to that Teacher in Korea who would make lol related posts about his students</td>\n",
       "      <td>Anyone remember this ? It was way back like 2014-15 I believe .</td>\n",
       "      <td>2rfxx</td>\n",
       "      <td>leagueoflegends</td>\n",
       "      <td>Whatever happened to that Teacher in Korea who would make lol related posts about his students Anyone remember this ? It was way back like 2014-15 I believe .</td>\n",
       "    </tr>\n",
       "    <tr>\n",
       "      <th>4</th>\n",
       "      <td>4</td>\n",
       "      <td>bcz9wj</td>\n",
       "      <td>Just got to diamond playing annie only :)</td>\n",
       "      <td>Just wanted to share my excitement with you guys. I only played annie (except for 2 games)  and reached diamond.\\r\\r\\n\\r\\r\\nIf you guys have any questions feel free to ask me, I am down to share some tips if you guys want.\\r\\r\\n\\r\\r\\nhttps://i.redd.it/gq9wku6vr5s21.png</td>\n",
       "      <td>2rfxx</td>\n",
       "      <td>leagueoflegends</td>\n",
       "      <td>Just got to diamond playing annie only :) Just wanted to share my excitement with you guys. I only played annie (except for 2 games)  and reached diamond.\\r\\r\\n\\r\\r\\nIf you guys have any questions feel free to ask me, I am down to share some tips if you guys want.\\r\\r\\n\\r\\r\\nhttps://i.redd.it/gq9wku6vr5s21.png</td>\n",
       "    </tr>\n",
       "    <tr>\n",
       "      <th>5</th>\n",
       "      <td>5</td>\n",
       "      <td>bcza0d</td>\n",
       "      <td>Hot Take: TSM vs TL is the Best Finals in LCS History</td>\n",
       "      <td>As a TSM fan it sucks to lose, but those games were so fuckin hype and crazy. Both teams played out of their fuckin minds. The only other ones that seemed to stand out to me are TSM vs C9 2016/17 and TSM vs CLG 2015/15. The crowd was also really good St. Louis did not disappoint. They seemed to be back and forth with chants non-stop all series. what do you people think? Was this the best LCS finals?</td>\n",
       "      <td>2rfxx</td>\n",
       "      <td>leagueoflegends</td>\n",
       "      <td>Hot Take: TSM vs TL is the Best Finals in LCS History As a TSM fan it sucks to lose, but those games were so fuckin hype and crazy. Both teams played out of their fuckin minds. The only other ones that seemed to stand out to me are TSM vs C9 2016/17 and TSM vs CLG 2015/15. The crowd was also really good St. Louis did not disappoint. They seemed to be back and forth with chants non-stop all series. what do you people think? Was this the best LCS finals?</td>\n",
       "    </tr>\n",
       "    <tr>\n",
       "      <th>6</th>\n",
       "      <td>6</td>\n",
       "      <td>bczb3x</td>\n",
       "      <td>Doublelift never meet Faker before in an offical stage before</td>\n",
       "      <td>As the title, I just realized somehow Doublelift and Faker never meet each other before at MSI and Worlds\\r\\r\\n\\r\\r\\nExcept IEM Katowice 2016, and All-star, this MSI will be the first time they face each others.\\r\\r\\n\\r\\r\\nAm I wrong? Please help cause I am really excited now.</td>\n",
       "      <td>2rfxx</td>\n",
       "      <td>leagueoflegends</td>\n",
       "      <td>Doublelift never meet Faker before in an offical stage before As the title, I just realized somehow Doublelift and Faker never meet each other before at MSI and Worlds\\r\\r\\n\\r\\r\\nExcept IEM Katowice 2016, and All-star, this MSI will be the first time they face each others.\\r\\r\\n\\r\\r\\nAm I wrong? Please help cause I am really excited now.</td>\n",
       "    </tr>\n",
       "    <tr>\n",
       "      <th>7</th>\n",
       "      <td>7</td>\n",
       "      <td>bczbqf</td>\n",
       "      <td>Griffin went balls to the walls to make LS look like a chump</td>\n",
       "      <td>after the whole LS Vs Reddit vs other casters fiasco. Griffin went balls deep to make ls look like a fool. pick his own made up bot lane duo that he invented on BBQ. and lose the finals with, pretty amazing that they are that dedicated to the cause. especially since papa smithy was also on the cast. they went the extra mile. \\r\\r\\n\\r\\r\\nprops to them. as a reddit analyst they have redeemed us. their sacrifice will be remembered.</td>\n",
       "      <td>2rfxx</td>\n",
       "      <td>leagueoflegends</td>\n",
       "      <td>Griffin went balls to the walls to make LS look like a chump after the whole LS Vs Reddit vs other casters fiasco. Griffin went balls deep to make ls look like a fool. pick his own made up bot lane duo that he invented on BBQ. and lose the finals with, pretty amazing that they are that dedicated to the cause. especially since papa smithy was also on the cast. they went the extra mile. \\r\\r\\n\\r\\r\\nprops to them. as a reddit analyst they have redeemed us. their sacrifice will be remembered.</td>\n",
       "    </tr>\n",
       "    <tr>\n",
       "      <th>8</th>\n",
       "      <td>8</td>\n",
       "      <td>bczbu3</td>\n",
       "      <td>Dodged ranked game due to client bug :)</td>\n",
       "      <td>&amp;#x200B;\\r\\r\\n\\r\\r\\nhttps://i.redd.it/fj8xph83t5s21.png</td>\n",
       "      <td>2rfxx</td>\n",
       "      <td>leagueoflegends</td>\n",
       "      <td>Dodged ranked game due to client bug :) &amp;#x200B;\\r\\r\\n\\r\\r\\nhttps://i.redd.it/fj8xph83t5s21.png</td>\n",
       "    </tr>\n",
       "    <tr>\n",
       "      <th>9</th>\n",
       "      <td>9</td>\n",
       "      <td>bczdhn</td>\n",
       "      <td>Decided to re-roll the skin shards I had saved up, these were the first two.</td>\n",
       "      <td>https://imgur.com/Ezbocp6\\r\\r\\n\\r\\r\\nhttps://imgur.com/xSCoZjd</td>\n",
       "      <td>2rfxx</td>\n",
       "      <td>leagueoflegends</td>\n",
       "      <td>Decided to re-roll the skin shards I had saved up, these were the first two. https://imgur.com/Ezbocp6\\r\\r\\n\\r\\r\\nhttps://imgur.com/xSCoZjd</td>\n",
       "    </tr>\n",
       "  </tbody>\n",
       "</table>\n",
       "</div>"
      ],
      "text/plain": [
       "   Unnamed: 0 submission_id  \\\n",
       "0           0        bcy7ky   \n",
       "1           1        bcy6mf   \n",
       "2           2        bcz8v5   \n",
       "3           3        bcz9r2   \n",
       "4           4        bcz9wj   \n",
       "5           5        bcza0d   \n",
       "6           6        bczb3x   \n",
       "7           7        bczbqf   \n",
       "8           8        bczbu3   \n",
       "9           9        bczdhn   \n",
       "\n",
       "                                                                                            title  \\\n",
       "0                                                                   15 minutes wait to play more?   \n",
       "1                                            League has to investigate possible fake game by Zen.   \n",
       "2                                                               Xmithie...the Goat, I told you so   \n",
       "3  Whatever happened to that Teacher in Korea who would make lol related posts about his students   \n",
       "4                                                       Just got to diamond playing annie only :)   \n",
       "5                                           Hot Take: TSM vs TL is the Best Finals in LCS History   \n",
       "6                                   Doublelift never meet Faker before in an offical stage before   \n",
       "7                                    Griffin went balls to the walls to make LS look like a chump   \n",
       "8                                                         Dodged ranked game due to client bug :)   \n",
       "9                    Decided to re-roll the skin shards I had saved up, these were the first two.   \n",
       "\n",
       "                                                                                                                                                                                                                                                                                                                                                                                                                                                                               text  \\\n",
       "0  So I dodged a game, all my mains banned or picked. I could have played a champ I don't know well, and cost my team a loss anyway. This is pretty rare for all my main champs to be picked/banned, so much so that I havn't dodged a game in months. More than I even remember, honestly it could be a year or more. \\r\\r\\n\\r\\r\\nSo here I am supposed to wait 15 mins for an online game. Is this ok? I'm trying to figure out what the logic behind this kind of punishment is.   \n",
       "1                                                                                                                                                                                                       Obvious inting in game 5 right before TSM win the game. Intentionally de-morale the whole team and let TL come back.\\r\\r\\n\\r\\r\\nNo one is saying he got paid by gambling company or enemy team. But some investigation has to be done. This is just too strange to believe.   \n",
       "2                                                                                                                                                                   Here's what I said about Xmithie years ago...\\r\\r\\n\\r\\r\\nIf I'm not mistaken, he's taken more different teams to worlds than anyone in LoL history..\\r\\r\\n\\r\\r\\nGrats to the GOAT... the best jungled ever to play in NA\\r\\r\\n\\r\\r\\nhttps://www.reddit.com/r/leagueoflegends/comments/3rnrgu/xmithieunderrated/   \n",
       "3                                                                                                                                                                                                                                                                                                                                                                                                                   Anyone remember this ? It was way back like 2014-15 I believe .   \n",
       "4                                                                                                                                                                                                     Just wanted to share my excitement with you guys. I only played annie (except for 2 games)  and reached diamond.\\r\\r\\n\\r\\r\\nIf you guys have any questions feel free to ask me, I am down to share some tips if you guys want.\\r\\r\\n\\r\\r\\nhttps://i.redd.it/gq9wku6vr5s21.png   \n",
       "5                                                                As a TSM fan it sucks to lose, but those games were so fuckin hype and crazy. Both teams played out of their fuckin minds. The only other ones that seemed to stand out to me are TSM vs C9 2016/17 and TSM vs CLG 2015/15. The crowd was also really good St. Louis did not disappoint. They seemed to be back and forth with chants non-stop all series. what do you people think? Was this the best LCS finals?   \n",
       "6                                                                                                                                                                                             As the title, I just realized somehow Doublelift and Faker never meet each other before at MSI and Worlds\\r\\r\\n\\r\\r\\nExcept IEM Katowice 2016, and All-star, this MSI will be the first time they face each others.\\r\\r\\n\\r\\r\\nAm I wrong? Please help cause I am really excited now.   \n",
       "7                                  after the whole LS Vs Reddit vs other casters fiasco. Griffin went balls deep to make ls look like a fool. pick his own made up bot lane duo that he invented on BBQ. and lose the finals with, pretty amazing that they are that dedicated to the cause. especially since papa smithy was also on the cast. they went the extra mile. \\r\\r\\n\\r\\r\\nprops to them. as a reddit analyst they have redeemed us. their sacrifice will be remembered.   \n",
       "8                                                                                                                                                                                                                                                                                                                                                                                                                           &#x200B;\\r\\r\\n\\r\\r\\nhttps://i.redd.it/fj8xph83t5s21.png   \n",
       "9                                                                                                                                                                                                                                                                                                                                                                                                                    https://imgur.com/Ezbocp6\\r\\r\\n\\r\\r\\nhttps://imgur.com/xSCoZjd   \n",
       "\n",
       "  subreddit_id             name  \\\n",
       "0        2rfxx  leagueoflegends   \n",
       "1        2rfxx  leagueoflegends   \n",
       "2        2rfxx  leagueoflegends   \n",
       "3        2rfxx  leagueoflegends   \n",
       "4        2rfxx  leagueoflegends   \n",
       "5        2rfxx  leagueoflegends   \n",
       "6        2rfxx  leagueoflegends   \n",
       "7        2rfxx  leagueoflegends   \n",
       "8        2rfxx  leagueoflegends   \n",
       "9        2rfxx  leagueoflegends   \n",
       "\n",
       "                                                                                                                                                                                                                                                                                                                                                                                                                                                                                                         all_text  \n",
       "0  15 minutes wait to play more? So I dodged a game, all my mains banned or picked. I could have played a champ I don't know well, and cost my team a loss anyway. This is pretty rare for all my main champs to be picked/banned, so much so that I havn't dodged a game in months. More than I even remember, honestly it could be a year or more. \\r\\r\\n\\r\\r\\nSo here I am supposed to wait 15 mins for an online game. Is this ok? I'm trying to figure out what the logic behind this kind of punishment is.  \n",
       "1                                                                                                                                                                                League has to investigate possible fake game by Zen. Obvious inting in game 5 right before TSM win the game. Intentionally de-morale the whole team and let TL come back.\\r\\r\\n\\r\\r\\nNo one is saying he got paid by gambling company or enemy team. But some investigation has to be done. This is just too strange to believe.  \n",
       "2                                                                                                                                                               Xmithie...the Goat, I told you so Here's what I said about Xmithie years ago...\\r\\r\\n\\r\\r\\nIf I'm not mistaken, he's taken more different teams to worlds than anyone in LoL history..\\r\\r\\n\\r\\r\\nGrats to the GOAT... the best jungled ever to play in NA\\r\\r\\n\\r\\r\\nhttps://www.reddit.com/r/leagueoflegends/comments/3rnrgu/xmithieunderrated/  \n",
       "3                                                                                                                                                                                                                                                                                                                                                  Whatever happened to that Teacher in Korea who would make lol related posts about his students Anyone remember this ? It was way back like 2014-15 I believe .  \n",
       "4                                                                                                                                                                                         Just got to diamond playing annie only :) Just wanted to share my excitement with you guys. I only played annie (except for 2 games)  and reached diamond.\\r\\r\\n\\r\\r\\nIf you guys have any questions feel free to ask me, I am down to share some tips if you guys want.\\r\\r\\n\\r\\r\\nhttps://i.redd.it/gq9wku6vr5s21.png  \n",
       "5                                        Hot Take: TSM vs TL is the Best Finals in LCS History As a TSM fan it sucks to lose, but those games were so fuckin hype and crazy. Both teams played out of their fuckin minds. The only other ones that seemed to stand out to me are TSM vs C9 2016/17 and TSM vs CLG 2015/15. The crowd was also really good St. Louis did not disappoint. They seemed to be back and forth with chants non-stop all series. what do you people think? Was this the best LCS finals?  \n",
       "6                                                                                                                                                             Doublelift never meet Faker before in an offical stage before As the title, I just realized somehow Doublelift and Faker never meet each other before at MSI and Worlds\\r\\r\\n\\r\\r\\nExcept IEM Katowice 2016, and All-star, this MSI will be the first time they face each others.\\r\\r\\n\\r\\r\\nAm I wrong? Please help cause I am really excited now.  \n",
       "7   Griffin went balls to the walls to make LS look like a chump after the whole LS Vs Reddit vs other casters fiasco. Griffin went balls deep to make ls look like a fool. pick his own made up bot lane duo that he invented on BBQ. and lose the finals with, pretty amazing that they are that dedicated to the cause. especially since papa smithy was also on the cast. they went the extra mile. \\r\\r\\n\\r\\r\\nprops to them. as a reddit analyst they have redeemed us. their sacrifice will be remembered.  \n",
       "8                                                                                                                                                                                                                                                                                                                                                                                                                 Dodged ranked game due to client bug :) &#x200B;\\r\\r\\n\\r\\r\\nhttps://i.redd.it/fj8xph83t5s21.png  \n",
       "9                                                                                                                                                                                                                                                                                                                                                                     Decided to re-roll the skin shards I had saved up, these were the first two. https://imgur.com/Ezbocp6\\r\\r\\n\\r\\r\\nhttps://imgur.com/xSCoZjd  "
      ]
     },
     "execution_count": 206,
     "metadata": {},
     "output_type": "execute_result"
    }
   ],
   "source": [
    "df = pd.read_csv('/Users/ksmith/Documents/Code/DS1/Unit4_Project/build-post-here-DS/plz_work.csv')\n",
    "df = df.fillna('')\n",
    "df['all_text'] = df['title'] + ' ' + df['text'] # Combining text & titles to one field\n",
    "\n",
    "df.head(10)"
   ]
  },
  {
   "cell_type": "code",
   "execution_count": 227,
   "metadata": {},
   "outputs": [
    {
     "data": {
      "text/html": [
       "<div>\n",
       "<style scoped>\n",
       "    .dataframe tbody tr th:only-of-type {\n",
       "        vertical-align: middle;\n",
       "    }\n",
       "\n",
       "    .dataframe tbody tr th {\n",
       "        vertical-align: top;\n",
       "    }\n",
       "\n",
       "    .dataframe thead th {\n",
       "        text-align: right;\n",
       "    }\n",
       "</style>\n",
       "<table border=\"1\" class=\"dataframe\">\n",
       "  <thead>\n",
       "    <tr style=\"text-align: right;\">\n",
       "      <th></th>\n",
       "      <th>submission_id</th>\n",
       "      <th>title</th>\n",
       "      <th>text</th>\n",
       "      <th>subreddit_id</th>\n",
       "      <th>name</th>\n",
       "      <th>all_text</th>\n",
       "    </tr>\n",
       "  </thead>\n",
       "  <tbody>\n",
       "    <tr>\n",
       "      <th>551</th>\n",
       "      <td>bcy7k8</td>\n",
       "      <td>[Spoilers] What is that one conspiracy theory you have that noone agrees with, but you still think is going to happen... ?</td>\n",
       "      <td>Arya is already dead and is actually Jaqen H'ghar...</td>\n",
       "      <td>2rjz2</td>\n",
       "      <td>gameofthrones</td>\n",
       "      <td>[Spoilers] What is that one conspiracy theory you have that noone agrees with, but you still think is going to happen... ? Arya is already dead and is actually Jaqen H'ghar...</td>\n",
       "    </tr>\n",
       "    <tr>\n",
       "      <th>552</th>\n",
       "      <td>bcz9cw</td>\n",
       "      <td>[SPOILERS] The only reunion that I want to see tonight.</td>\n",
       "      <td></td>\n",
       "      <td>2rjz2</td>\n",
       "      <td>gameofthrones</td>\n",
       "      <td>[SPOILERS] The only reunion that I want to see tonight.</td>\n",
       "    </tr>\n",
       "    <tr>\n",
       "      <th>553</th>\n",
       "      <td>bczaow</td>\n",
       "      <td>[No Spoilers] How does rising the dead work?</td>\n",
       "      <td>Some stuff I wonder about.\\r\\r\\n\\r\\r\\nHow fresh do the dead need to be? Can the NK rise people ho died weeks/months/years ago?\\r\\r\\n\\r\\r\\nAnd how close does he have to be? Could he rise people in Dorne while he sits somewhere in the Riverlands?\\r\\r\\n\\r\\r\\nWhere those rules ever established?</td>\n",
       "      <td>2rjz2</td>\n",
       "      <td>gameofthrones</td>\n",
       "      <td>[No Spoilers] How does rising the dead work? Some stuff I wonder about.\\r\\r\\n\\r\\r\\nHow fresh do the dead need to be? Can the NK rise people ho died weeks/months/years ago?\\r\\r\\n\\r\\r\\nAnd how close does he have to be? Could he rise people in Dorne while he sits somewhere in the Riverlands?\\r\\r\\n\\r\\r\\nWhere those rules ever established?</td>\n",
       "    </tr>\n",
       "    <tr>\n",
       "      <th>554</th>\n",
       "      <td>bczgts</td>\n",
       "      <td>[No Spoilers] House Targaryen sigil cross stitch</td>\n",
       "      <td></td>\n",
       "      <td>2rjz2</td>\n",
       "      <td>gameofthrones</td>\n",
       "      <td>[No Spoilers] House Targaryen sigil cross stitch</td>\n",
       "    </tr>\n",
       "    <tr>\n",
       "      <th>555</th>\n",
       "      <td>bczhln</td>\n",
       "      <td>[No Spoilers] Need help!!</td>\n",
       "      <td>My exams(very important) are going on and will end on 27th May, which is way past the final episode release date. Which is a problem because now I can't decide whether to watch one episode per week of the new season or wait till after the exams and then watch all 8 seasons together. I really want to watch all the seasons again so I can do justice to the series but I don't know if I will be safe from spoilers for so long. I need help deciding!!</td>\n",
       "      <td>2rjz2</td>\n",
       "      <td>gameofthrones</td>\n",
       "      <td>[No Spoilers] Need help!! My exams(very important) are going on and will end on 27th May, which is way past the final episode release date. Which is a problem because now I can't decide whether to watch one episode per week of the new season or wait till after the exams and then watch all 8 seasons together. I really want to watch all the seasons again so I can do justice to the series but I don't know if I will be safe from spoilers for so long. I need help deciding!!</td>\n",
       "    </tr>\n",
       "  </tbody>\n",
       "</table>\n",
       "</div>"
      ],
      "text/plain": [
       "    submission_id  \\\n",
       "551        bcy7k8   \n",
       "552        bcz9cw   \n",
       "553        bczaow   \n",
       "554        bczgts   \n",
       "555        bczhln   \n",
       "\n",
       "                                                                                                                          title  \\\n",
       "551  [Spoilers] What is that one conspiracy theory you have that noone agrees with, but you still think is going to happen... ?   \n",
       "552                                                                     [SPOILERS] The only reunion that I want to see tonight.   \n",
       "553                                                                                [No Spoilers] How does rising the dead work?   \n",
       "554                                                                            [No Spoilers] House Targaryen sigil cross stitch   \n",
       "555                                                                                                   [No Spoilers] Need help!!   \n",
       "\n",
       "                                                                                                                                                                                                                                                                                                                                                                                                                                                                text  \\\n",
       "551                                                                                                                                                                                                                                                                                                                                                                                                             Arya is already dead and is actually Jaqen H'ghar...   \n",
       "552                                                                                                                                                                                                                                                                                                                                                                                                                                                                    \n",
       "553                                                                                                                                                              Some stuff I wonder about.\\r\\r\\n\\r\\r\\nHow fresh do the dead need to be? Can the NK rise people ho died weeks/months/years ago?\\r\\r\\n\\r\\r\\nAnd how close does he have to be? Could he rise people in Dorne while he sits somewhere in the Riverlands?\\r\\r\\n\\r\\r\\nWhere those rules ever established?   \n",
       "554                                                                                                                                                                                                                                                                                                                                                                                                                                                                    \n",
       "555  My exams(very important) are going on and will end on 27th May, which is way past the final episode release date. Which is a problem because now I can't decide whether to watch one episode per week of the new season or wait till after the exams and then watch all 8 seasons together. I really want to watch all the seasons again so I can do justice to the series but I don't know if I will be safe from spoilers for so long. I need help deciding!!   \n",
       "\n",
       "    subreddit_id           name  \\\n",
       "551        2rjz2  gameofthrones   \n",
       "552        2rjz2  gameofthrones   \n",
       "553        2rjz2  gameofthrones   \n",
       "554        2rjz2  gameofthrones   \n",
       "555        2rjz2  gameofthrones   \n",
       "\n",
       "                                                                                                                                                                                                                                                                                                                                                                                                                                                                                      all_text  \n",
       "551                                                                                                                                                                                                                                                                                                            [Spoilers] What is that one conspiracy theory you have that noone agrees with, but you still think is going to happen... ? Arya is already dead and is actually Jaqen H'ghar...  \n",
       "552                                                                                                                                                                                                                                                                                                                                                                                                                                   [SPOILERS] The only reunion that I want to see tonight.   \n",
       "553                                                                                                                                           [No Spoilers] How does rising the dead work? Some stuff I wonder about.\\r\\r\\n\\r\\r\\nHow fresh do the dead need to be? Can the NK rise people ho died weeks/months/years ago?\\r\\r\\n\\r\\r\\nAnd how close does he have to be? Could he rise people in Dorne while he sits somewhere in the Riverlands?\\r\\r\\n\\r\\r\\nWhere those rules ever established?  \n",
       "554                                                                                                                                                                                                                                                                                                                                                                                                                                          [No Spoilers] House Targaryen sigil cross stitch   \n",
       "555  [No Spoilers] Need help!! My exams(very important) are going on and will end on 27th May, which is way past the final episode release date. Which is a problem because now I can't decide whether to watch one episode per week of the new season or wait till after the exams and then watch all 8 seasons together. I really want to watch all the seasons again so I can do justice to the series but I don't know if I will be safe from spoilers for so long. I need help deciding!!  "
      ]
     },
     "execution_count": 227,
     "metadata": {},
     "output_type": "execute_result"
    }
   ],
   "source": [
    "top_20 = ['AskReddit', 'dankmemes', 'memes', 'teenagers', 'aww', 'RocketLeagueExchange', 'Showerthoughts',\n",
    "          'funny', 'me_irl', 'freefolk', 'gameofthrones', 'pics', 'NoStupidQuestions', 'AskOuija',\n",
    "          'unpopularopinion', 'gaming', 'videos', 'politics', 'AmItheAsshole', 'Jokes']\n",
    "\n",
    "data = df[df['name'].isin(top_20)]\n",
    "data = data.drop(data.columns[0], axis=1) # Drop old row index\n",
    "data.head()"
   ]
  },
  {
   "cell_type": "code",
   "execution_count": 208,
   "metadata": {},
   "outputs": [],
   "source": [
    "from nltk.corpus import stopwords, wordnet\n",
    "import string\n",
    "\n",
    "stop_words = set(stopwords.words('english'))\n",
    "table = str.maketrans('', '', string.punctuation)\n",
    "\n",
    "data['all_text'] = data['all_text'].str.replace('http\\S+|www.\\S+', '', case=False)\n",
    "data['all_text'] = data['all_text'].str.lower()  #Text is lowercase\n",
    "data['all_text'] = data['all_text'].str.translate(table) #Remove punctuation\n",
    "# data['all_text'] = data['all_text'].str.split() #Tokenize words\n",
    "# data['all_text'] = data['all_text'].apply(lambda x: [item for item in x if item not in stop_words]) \n",
    "# #Remove stop words"
   ]
  },
  {
   "cell_type": "code",
   "execution_count": 204,
   "metadata": {},
   "outputs": [
    {
     "data": {
      "text/plain": [
       "551                                        []\n",
       "552                                        []\n",
       "553                                        []\n",
       "554                                        []\n",
       "555                                        []\n",
       "556                                        []\n",
       "557                                        []\n",
       "558                                        []\n",
       "559                                        []\n",
       "560                                        []\n",
       "561                                        []\n",
       "562                                        []\n",
       "563      [github.com, youtube.com, i.redd.it]\n",
       "564                                        []\n",
       "565                                        []\n",
       "566                             [youtube.com]\n",
       "567                                        []\n",
       "568                                        []\n",
       "569                                        []\n",
       "570                                        []\n",
       "571                                        []\n",
       "572                                        []\n",
       "573                                        []\n",
       "574                                        []\n",
       "575                                        []\n",
       "576                                        []\n",
       "577                                        []\n",
       "578                                        []\n",
       "579                                        []\n",
       "580                                        []\n",
       "                         ...                 \n",
       "74342                                      []\n",
       "74343                                      []\n",
       "74344                                      []\n",
       "74345                                      []\n",
       "74346                                      []\n",
       "74347                                      []\n",
       "74348                                      []\n",
       "74349                                      []\n",
       "74350                                      []\n",
       "74351                                      []\n",
       "74352                                      []\n",
       "74353                                      []\n",
       "74354                                      []\n",
       "74355                                      []\n",
       "74356                                      []\n",
       "74357                                      []\n",
       "74358                                      []\n",
       "74359                                      []\n",
       "74360                                      []\n",
       "74361                                      []\n",
       "74362                                      []\n",
       "74363                                      []\n",
       "74364                                      []\n",
       "74365                                      []\n",
       "74366                                      []\n",
       "74367                                      []\n",
       "74368                                      []\n",
       "74369                                      []\n",
       "74370                                      []\n",
       "74371                                      []\n",
       "Name: all_text, Length: 25584, dtype: object"
      ]
     },
     "execution_count": 204,
     "metadata": {},
     "output_type": "execute_result"
    }
   ],
   "source": [
    "data['all_text'].str.findall('.*\\://(?:www.)?([^\\/]+)')"
   ]
  },
  {
   "cell_type": "code",
   "execution_count": 231,
   "metadata": {},
   "outputs": [
    {
     "data": {
      "text/plain": [
       "551                                                                                                                                                                                                                                                                                                                                           [Spoilers] What is that one conspiracy theory you have that noone agrees with, but you still think is going to happen... ? Arya is already dead and is actually Jaqen H'ghar...\n",
       "552                                                                                                                                                                                                                                                                                                                                                                                                                                                                  [SPOILERS] The only reunion that I want to see tonight. \n",
       "553                                                                                                                                                                          [No Spoilers] How does rising the dead work? Some stuff I wonder about.\\r\\r\\n\\r\\r\\nHow fresh do the dead need to be? Can the NK rise people ho died weeks/months/years ago?\\r\\r\\n\\r\\r\\nAnd how close does he have to be? Could he rise people in Dorne while he sits somewhere in the Riverlands?\\r\\r\\n\\r\\r\\nWhere those rules ever established?\n",
       "554                                                                                                                                                                                                                                                                                                                                                                                                                                                                         [No Spoilers] House Targaryen sigil cross stitch \n",
       "555                                 [No Spoilers] Need help!! My exams(very important) are going on and will end on 27th May, which is way past the final episode release date. Which is a problem because now I can't decide whether to watch one episode per week of the new season or wait till after the exams and then watch all 8 seasons together. I really want to watch all the seasons again so I can do justice to the series but I don't know if I will be safe from spoilers for so long. I need help deciding!!\n",
       "556       [no spoilers] Bookmaker in Australia is offering odds on various outcomes, \"here's the who will rule westeros\" one... Bran Stark **2.10 .**\\r\\r\\n\\r\\r\\nAny Child of Jon Snow/Aegon Targaryen **3.25 .**\\r\\r\\n\\r\\r\\nJon Snow/Aegon Targaryen . **3.50 .**\\r\\r\\n\\r\\r\\nDaenerys Targaryen . **5.00 .**\\r\\r\\n\\r\\r\\nTyrion Lannister 8.00 . \\r\\r\\n\\r\\r\\nSansa Stark **10.00 .**\\r\\r\\n\\r\\r\\nGendry **10.00**\\r\\r\\n\\r\\r\\nNight King 10.00\\r\\r\\n\\r\\r\\n&#x200B;\\r\\r\\n\\r\\r\\nThey have others if anyone is interested..  Fi...\n",
       "557                                                                                                                                                                                                                                                                                                                                                                                                                                                         [Spoilers] Game of Thrones Season 8 - \"First Day on Set\" Preview \n",
       "558       [Spoilers] Is the NK similarly vulnerable? (I hope the title is spoiler-free enough…)\\r\\r\\n\\r\\r\\nSomething just occurred to me last night.\\r\\r\\n\\r\\r\\nWe know the main vulnerability of White Walkers is dragonglass. Valyrian steel works too, but obviously that’s much harder to come by.\\r\\r\\n\\r\\r\\nI’ve been assuming that the rules are the same for the NK, but now that I think about it, there is a difference in the Night King’s existence/magic - the Night King has a shard of dragonglass in his h...\n",
       "559                                                                                                                                                                                                                                                                                                                                                                                                                  [No Spoilers] GAME OF THRONES SEASON 8 WILL GIVE US THE BLANDEST AND MOST PREDICTABLE ENDING IMAGINABLE \n",
       "560                                                                                                                                                                                                                                                             [NO SPOILERS] Are you going to watch the premiere or wait for the season to be over to begin watching? I’m curious to see how many people are planning on watching the premiere live, versus, waiting till the entire final season is over to begin watching.\n",
       "561                                                                                                                                                                                                                                                                                                                                                                                                                                                                      [NO SPOILERS] Any links to share on where to watch? \n",
       "562                                                                                                                                                                                                                                                                                                                                                                                                                                 [SPOILERS] El Paso meteorologist includes Westeros forecast for Sunday night live on air \n",
       "563       [No Spoilers] GoT: Hide That Spoiler App | Frustrated Developer Hi, \\r\\r\\n\\r\\r\\n&#x200B;\\r\\r\\n\\r\\r\\n**What this is?**\\r\\r\\n\\r\\r\\nThis is a Google Chrome Extension developed by a frustrated developer that hides GoT spoilers, blurs images while you surf the Internet. \\r\\r\\n\\r\\r\\nThe best thing is you can clone or download the source code, and edit it your way to have your own GoT extension that works just the way you want!\\r\\r\\n\\r\\r\\n&#x200B;\\r\\r\\n\\r\\r\\n* Source Code - [here](.*\\://(?:www.)?([...\n",
       "564                                                                                                                             [No Spoilers] Question about the book series Hello, I’m a big fan of the show. I’m not the best reader Bc I get bored easy and sometimes I feel like I get disinterested quick. But I was thinking recently about the book series. For the people that have read them, is it a challenging series to read? Is it slow? I am considering trying it but I really don’t know if I should or not.\n",
       "565                                                                                                                                                                                                                                                                                                                                                                                       [NO SPOILERS] Live stream of a huge invite-only Xfinity Watchathon Game of Thrones Watch Party for superfans at a real-life Castle \n",
       "566                                                                                                                                                                                                                                                                                                                                                                                                        [NO SPOILERS] GOT Baby Shark Mashup Everything you need to prepare for Winter:\\r\\r\\n\\r\\r\\n[.*\\://(?:www.)?([^\\/]+)\n",
       "567                                                                                                                                                                                                                                                                                                                                                                                                                                                                    [Spoilers] House Frakenfurter: Don't dream it, Be it! \n",
       "568       [Spoilers] My final predictions part 1 Ok so This will be long, but here are my final theories on how I think everything will do down. Out of all my theorizing for a long time these are what I’ve finally decided on. The first 3 are theories are the show as a whole and the last 3 are what I think, and what I want for the characters endings.\\r\\r\\n\\r\\r\\n1: The All Bran theory. Some aspects of this have already been thought up by other people like the Bran is the NK theory, but a lot of this is ...\n",
       "569                                                                                                                                                                                                                                                                                                                                                                                                                                              [SPOILERS] Theory for S8 Dany becomes Night Queen via peace treaty. The End.\n",
       "570       [Spoilers] My final predictions part 2 \\r\\r\\nAs for the characters endings it depends on which of these theories you go with. Me personally here are the 3 possible endings for them that I’d like to see. \\r\\r\\n\\r\\r\\n1: Danny being the new night queen. Jorah being new Lord commander of the nights watch having to know He has to guard The woman he loves for the rest of his life. This is the reason they made his father lord commander so it would make sense for him to be In the end. Sansa Dying, b...\n",
       "571                                                                                                                                                                                                                                                                                                                                                                                                                                                                                            [NO SPOILERS] One more day... \n",
       "572                                                                                                                                                                                                                                                                                                                                                                                                                                              [SPOILERS] Been making myself some custom cards. Here's one for the premier \n",
       "573       [SPOILERS] Jon does a lot of stupid stuff that not many people seem to acknowledge Just finished my rewatch and watching episode after episode really highlights the mistakes Jon made.\\r\\r\\n\\r\\r\\n1. Battle of the bastards - he didn't listen to Sansas warning that Ramsey would provoke an emotional reaction out if him. He charged right in causing his forces to attack too early. This was the complete opposite plan that he and Davos had made to get the bulk of Ramsey's forces to collect in the mi...\n",
       "574                                                                                                                                                                                                                                                                                                                                                                                                                                                                       [No Spoilers] Rise and shine! Game of Thrones day! \n",
       "575                                                                                                                                                                                                                                                                                                                                                    [No Spoilers] Question about how to watch new episodes When new episodes premiere will they immediately be released on streaming services or do we have to wait a day?\n",
       "576                                                                                                                                                                                                                                                                                                                                                                      [No Spoilers] What will you do For The Throne? you can see my illustration of Daenerys there for a split second! 0:30. and other amazing creations. \n",
       "577                                                                                                                                                                                                                                                                                                                                                                                                                                                                   [spoilers] Top 10 Most Evil Game Of Thrones Characters \n",
       "578                                                                                                                                                                                                                                                                                                                                                                                                                                     [No Spoilers] Grabbed The McFarlane Toys Viserion From Target, And He's COOOOL! Heh. \n",
       "579                                                                                                                                                                                                                                                                           [NO SPOILERS] Will we be able to watch the episodes on demand as they come out? If we're subscribed to HBO, will we be able to watch each episode any time after they're released, or will we have to watch it at a specific time when it airs?\n",
       "580                                                                                                                                                                                                                                                                                                                                                                                                                                          [No Spoilers] Game of Thrones Cake I made! Check comments to see how I made it! \n",
       "                                                                                                                                                                                                                                                                 ...                                                                                                                                                                                                                                                         \n",
       "321855                                                                                                                                                                                                                                                                                                                                                                                                                                                        A question about the dragon bones under the red keep? [removed]\n",
       "321856                                                                                                                                                                                                                                                                                                                                                                                                                                       Agree or Disagree: Hillary Clinton is the Stannis Baratheon of America [removed]\n",
       "321857                                                                                                                                                                                                                                                                                                                                                                                                                                                                                  [ NO SPOILERS] dragon bones [removed]\n",
       "321858                                                                                                                                                                                                                                                                                                                                                                                                                                                                                                   [SPOILERS] [removed]\n",
       "321859                                                                                                                                                                                                                                                                                                                                                                                                                                             [SPOILER] What GoT tv series moments brought tears to your eyes? [removed]\n",
       "321860                                                                                                                                                                                                                                                                                                                                                                                                                                                                      [spoliers] was the Hand of the King.... [removed]\n",
       "321861                                                                                                                                                                                                                                                                                                                                                                                                                                                       {SPOILERS] What GoT moment brought tears to your eyes? [removed]\n",
       "321862                                                                                                                                                                                                                                                                                                                                                                                                          Listen and give your feedback to Melisandre's Resurrection Spell in 6 languages, plus High Valyrian [removed]\n",
       "321863                                                                                                                                                                                                                                                                                                                                                                                               [SPOILERS] Listen and give your feedback to Melisandre's Resurrection Spell in 6 languages, plus High Valyrian [removed]\n",
       "321864                                                                                                                                                                                                                                                                                                                                                                                                                                                                    Would you say Ramsey or Joffrey is worse? [removed]\n",
       "321865                                                                                                                                                                                                                                                                                                                                                                                                                                                                                        The long walk back... [removed]\n",
       "321866                                                                                                                                                                                                                                                                                                                                                                                                                                             1 v 1 What 2 characters in the show would you like to see fight? [removed]\n",
       "321867                                                                                                                                                                                                                                                                                                                                                                                                                                                      NO SPOILERS A question thats been on my mind for awhile [removed]\n",
       "321868                                                                                                                                                                                                                                                                                                                                                                                                                                                                                                {NO SPOILERS} [removed]\n",
       "321869                                                                                                                                                                                                                                                                                                                                                                                                                                                                  When did you first start watching the show? [removed]\n",
       "321870                                                                                                                                                                                                                                                                                                                                                                                                                  What is the meaning of Jon Arryn's last words before dying of poison: \"The seed is strong\"? [removed]\n",
       "321871                                                                                                                                                                                                                                                                                                                                                                                                                                                    What is the meaning of Jon Arryn's last words? [SPOILERS] [removed]\n",
       "321872                                                                                                                                                                                                                                                                                                                                                                                                                                                                            [SPOILER] theory about king arrys [removed]\n",
       "321873                                                                                                                                                                                                                                                                                                                                                                                                                                         [SPOILERS] What is the meaning of Jon Arryn's last words? [SPOILERS] [removed]\n",
       "321874                                                                                                                                                                                                                                                                                                                                                                                                                                                                                      .*\\://(?:www.)?([^\\/]+) [removed]\n",
       "321875                                                                                                                                                                                                                                                                                                                                                                                                                                                         What is your take on the Ramsay And Myranda dynamic? [removed]\n",
       "321876                                                                                                                                                                                                                                                                                                                                                                                                                                                                       Looking for a Game of thrones necklace [removed]\n",
       "321877                                                                                                                                                                                                                                                                                                                                                                                           Which of these characters do you think will die in season 8? (Possible spoilers if you have not finished season 7) [removed]\n",
       "321878                                                                                                                                                                                                                                                                                                                                                                                                                               Which of the characters in the linked image do you think will die in season 8? [removed]\n",
       "321879                                                                                                                                                                                                                                                                                                                                                                                                                                                                              On the last episode of Season 7 [removed]\n",
       "321880                                                                                                                                                                                                                                                                                                                                                                                                                                                                (Spoilers) Will the Iron Throne be destroyed? [removed]\n",
       "321881                                                                                                                                                                                                                                                                                                                                                                                                                                                        [MAIN SPOILERS] They couldn't have picked an actor... [removed]\n",
       "321882                                                                                                                                                                                                                                                                                                                                                                                                                                                                                   Final season release date? [removed]\n",
       "321883                                                                                                                                                                                                                                                                                                                                                                                                                                                                                       Season 9 release date? [removed]\n",
       "321884                                                                                                                                                                                                                                                                                                                                                                                                                                                                         [NO SPOILER] Jaime Lannister drawing [removed]\n",
       "Name: all_text, Length: 87990, dtype: object"
      ]
     },
     "execution_count": 231,
     "metadata": {},
     "output_type": "execute_result"
    }
   ],
   "source": [
    "pd.options.display.max_colwidth = 500\n",
    "\n",
    "# Using regex groups\n",
    "pat = r'http\\S+|www.\\S+'\n",
    "\n",
    "def repl(m):\n",
    "    return r'.*\\://(?:www.)?([^\\/]+)'\n",
    " \n",
    "\n",
    "data['all_text'].str.replace(pat, repl)"
   ]
  },
  {
   "cell_type": "markdown",
   "metadata": {},
   "source": [
    "### Doc2Vec & Logistic Regression"
   ]
  },
  {
   "cell_type": "code",
   "execution_count": 209,
   "metadata": {},
   "outputs": [],
   "source": [
    "def label_sentences(corpus, label_type):\n",
    "    \"\"\"\n",
    "    Gensim's Doc2Vec implementation requires each document/paragraph to have a label associated with it.\n",
    "    We do this by using the TaggedDocument method. The format will be \"TRAIN_i\" or \"TEST_i\" where \"i\" is\n",
    "    a dummy index of the post.\n",
    "    \"\"\"\n",
    "    labeled = []\n",
    "    for i, v in enumerate(corpus):\n",
    "        label = label_type + '_' + str(i)\n",
    "        labeled.append(doc2vec.TaggedDocument(v.split(), [label]))\n",
    "    return labeled"
   ]
  },
  {
   "cell_type": "code",
   "execution_count": 233,
   "metadata": {},
   "outputs": [
    {
     "data": {
      "text/plain": [
       "AskReddit               18286\n",
       "NoStupidQuestions        5888\n",
       "politics                 5648\n",
       "Jokes                    4865\n",
       "funny                    4745\n",
       "pics                     4418\n",
       "videos                   4382\n",
       "aww                      4333\n",
       "gaming                   4257\n",
       "teenagers                3442\n",
       "RocketLeagueExchange     3380\n",
       "me_irl                   3279\n",
       "freefolk                 3276\n",
       "gameofthrones            3106\n",
       "Showerthoughts           3070\n",
       "AmItheAsshole            2480\n",
       "AskOuija                 2475\n",
       "dankmemes                2446\n",
       "memes                    2217\n",
       "unpopularopinion         1997\n",
       "Name: name, dtype: int64"
      ]
     },
     "execution_count": 233,
     "metadata": {},
     "output_type": "execute_result"
    }
   ],
   "source": [
    "# y_encode = {'AskReddit':1, 'dankmemes':2, 'memes':3, 'teenagers':4, 'aww':5, 'RocketLeagueExchange':6, \n",
    "#             'Showerthoughts':7,'funny':8, 'me_irl':9, 'freefolk':10, 'gameofthrones':11, 'pics':12, \n",
    "#             'NoStupidQuestions':13, 'AskOuija':14, 'unpopularopinion':15, 'gaming':16, 'videos':17, \n",
    "#             'politics':18, 'AmItheAsshole':19, 'Jokes':20}\n",
    "\n",
    "X = data['all_text']\n",
    "y = data['name']"
   ]
  },
  {
   "cell_type": "code",
   "execution_count": 211,
   "metadata": {},
   "outputs": [],
   "source": [
    "X_train, X_test, y_train, y_test = train_test_split(X, y, random_state=0, test_size=0.3)\n",
    "X_train = label_sentences(X_train, 'Train')\n",
    "X_test = label_sentences(X_test, 'Test')\n",
    "all_data = X_train + X_test"
   ]
  },
  {
   "cell_type": "code",
   "execution_count": 212,
   "metadata": {},
   "outputs": [
    {
     "data": {
      "text/plain": [
       "[TaggedDocument(words=['whats', 'the', 'most', 'embarrassing', 'thing', 'youve', 'done', 'in', 'front', 'of', 'a', 'crush'], tags=['Train_0']),\n",
       " TaggedDocument(words=['no', 'spoilers', 'what', 'will', 'you', 'do', 'for', 'the', 'throne', 'you', 'can', 'see', 'my', 'illustration', 'of', 'daenerys', 'there', 'for', 'a', 'split', 'second', '030', 'and', 'other', 'amazing', 'creations'], tags=['Train_1'])]"
      ]
     },
     "execution_count": 212,
     "metadata": {},
     "output_type": "execute_result"
    }
   ],
   "source": [
    "all_data[:2]"
   ]
  },
  {
   "cell_type": "code",
   "execution_count": 213,
   "metadata": {},
   "outputs": [
    {
     "name": "stderr",
     "output_type": "stream",
     "text": [
      "100%|██████████| 87990/87990 [00:00<00:00, 2804297.81it/s]\n",
      "100%|██████████| 87990/87990 [00:00<00:00, 3463793.53it/s]\n",
      "100%|██████████| 87990/87990 [00:00<00:00, 2979484.35it/s]\n",
      "100%|██████████| 87990/87990 [00:00<00:00, 2999072.05it/s]\n",
      "100%|██████████| 87990/87990 [00:00<00:00, 3077422.44it/s]\n",
      "100%|██████████| 87990/87990 [00:00<00:00, 2977561.27it/s]\n",
      "100%|██████████| 87990/87990 [00:00<00:00, 3076601.50it/s]\n",
      "100%|██████████| 87990/87990 [00:00<00:00, 2978354.24it/s]\n",
      "100%|██████████| 87990/87990 [00:00<00:00, 3079065.65it/s]\n",
      "100%|██████████| 87990/87990 [00:00<00:00, 3036754.78it/s]\n",
      "100%|██████████| 87990/87990 [00:00<00:00, 3084212.01it/s]\n",
      "100%|██████████| 87990/87990 [00:00<00:00, 3009760.31it/s]\n",
      "100%|██████████| 87990/87990 [00:00<00:00, 2992239.29it/s]\n",
      "100%|██████████| 87990/87990 [00:00<00:00, 3107088.03it/s]\n",
      "100%|██████████| 87990/87990 [00:00<00:00, 3032363.31it/s]\n",
      "100%|██████████| 87990/87990 [00:00<00:00, 2073131.57it/s]\n",
      "100%|██████████| 87990/87990 [00:00<00:00, 3110833.21it/s]\n",
      "100%|██████████| 87990/87990 [00:00<00:00, 3335986.12it/s]\n",
      "100%|██████████| 87990/87990 [00:00<00:00, 3275293.61it/s]\n",
      "100%|██████████| 87990/87990 [00:00<00:00, 3261544.52it/s]\n",
      "100%|██████████| 87990/87990 [00:00<00:00, 3375560.76it/s]\n",
      "100%|██████████| 87990/87990 [00:00<00:00, 3142058.87it/s]\n",
      "100%|██████████| 87990/87990 [00:00<00:00, 2919152.78it/s]\n",
      "100%|██████████| 87990/87990 [00:00<00:00, 3266538.70it/s]\n",
      "100%|██████████| 87990/87990 [00:00<00:00, 3142486.94it/s]\n",
      "100%|██████████| 87990/87990 [00:00<00:00, 3221206.14it/s]\n",
      "100%|██████████| 87990/87990 [00:00<00:00, 3163850.29it/s]\n",
      "100%|██████████| 87990/87990 [00:00<00:00, 3257427.90it/s]\n",
      "100%|██████████| 87990/87990 [00:00<00:00, 3150481.11it/s]\n",
      "100%|██████████| 87990/87990 [00:00<00:00, 3062305.49it/s]\n",
      "100%|██████████| 87990/87990 [00:00<00:00, 3340817.87it/s]\n"
     ]
    }
   ],
   "source": [
    "model_dbow = Doc2Vec(dm=0, vector_size=300, negative=5, min_count=1, alpha=0.065, min_alpha=0.065)\n",
    "model_dbow.build_vocab([x for x in tqdm(all_data)])\n",
    "\n",
    "for epoch in range(30):\n",
    "    model_dbow.train(utils.shuffle([x for x in tqdm(all_data)]), total_examples=len(all_data), epochs=1)\n",
    "    model_dbow.alpha -= 0.002\n",
    "    model_dbow.min_alpha = model_dbow.alpha"
   ]
  },
  {
   "cell_type": "code",
   "execution_count": 214,
   "metadata": {},
   "outputs": [],
   "source": [
    "def get_vectors(model, corpus_size, vectors_size, vectors_type):\n",
    "    \"\"\"\n",
    "    Get vectors from trained doc2vec model\n",
    "    :param doc2vec_model: Trained Doc2Vec model\n",
    "    :param corpus_size: Size of the data\n",
    "    :param vectors_size: Size of the embedding vectors\n",
    "    :param vectors_type: Training or Testing vectors\n",
    "    :return: list of vectors\n",
    "    \"\"\"\n",
    "    vectors = np.zeros((corpus_size, vectors_size))\n",
    "    for i in range(0, corpus_size):\n",
    "        prefix = vectors_type + '_' + str(i)\n",
    "        vectors[i] = model.docvecs[prefix]\n",
    "    return vectors\n",
    "    \n",
    "train_vectors_dbow = get_vectors(model_dbow, len(X_train), 300, 'Train')\n",
    "test_vectors_dbow = get_vectors(model_dbow, len(X_test), 300, 'Test')"
   ]
  },
  {
   "cell_type": "code",
   "execution_count": 215,
   "metadata": {},
   "outputs": [],
   "source": [
    "subreddits = data.name.unique()"
   ]
  },
  {
   "cell_type": "code",
   "execution_count": 216,
   "metadata": {},
   "outputs": [
    {
     "name": "stdout",
     "output_type": "stream",
     "text": [
      "CPU times: user 1min 41s, sys: 257 ms, total: 1min 41s\n",
      "Wall time: 1min 42s\n"
     ]
    }
   ],
   "source": [
    "%%time\n",
    "\n",
    "logreg = LogisticRegression(n_jobs=1, C=1e5)\n",
    "logreg = logreg.fit(train_vectors_dbow, y_train)"
   ]
  },
  {
   "cell_type": "code",
   "execution_count": 217,
   "metadata": {},
   "outputs": [
    {
     "name": "stdout",
     "output_type": "stream",
     "text": [
      "accuracy 0.6274955487365989\n",
      "                      precision    recall  f1-score   support\n",
      "\n",
      "       gameofthrones       0.88      0.90      0.89       733\n",
      "           teenagers       0.34      0.12      0.18       755\n",
      "           AskReddit       0.75      0.94      0.84      5579\n",
      "                pics       0.54      0.50      0.52      1494\n",
      "           dankmemes       0.58      0.59      0.58      1679\n",
      "RocketLeagueExchange       0.96      0.96      0.96       999\n",
      "                 aww       0.48      0.37      0.42       889\n",
      "              me_irl       0.52      0.64      0.58      1214\n",
      "               funny       0.29      0.05      0.09       771\n",
      "      Showerthoughts       0.53      0.48      0.50       958\n",
      "               memes       0.26      0.33      0.29      1448\n",
      "    unpopularopinion       0.76      0.77      0.77       910\n",
      "       AmItheAsshole       0.49      0.52      0.51      1253\n",
      "              videos       0.75      0.94      0.83      1031\n",
      "            freefolk       0.20      0.01      0.03       678\n",
      "              gaming       0.49      0.50      0.49      1345\n",
      "               Jokes       0.81      0.90      0.85      1688\n",
      "   NoStupidQuestions       0.48      0.42      0.45      1030\n",
      "            AskOuija       0.72      0.63      0.67       589\n",
      "            politics       0.45      0.36      0.40      1354\n",
      "\n",
      "         avg / total       0.60      0.63      0.60     26397\n",
      "\n"
     ]
    }
   ],
   "source": [
    "y_pred = logreg.predict(test_vectors_dbow)\n",
    "print('accuracy %s' % accuracy_score(y_pred, y_test))\n",
    "print(classification_report(y_test, y_pred,target_names=subreddits))"
   ]
  },
  {
   "cell_type": "markdown",
   "metadata": {},
   "source": [
    "### User input test prediction"
   ]
  },
  {
   "cell_type": "code",
   "execution_count": 218,
   "metadata": {},
   "outputs": [
    {
     "name": "stdout",
     "output_type": "stream",
     "text": [
      "['me_irl']\n"
     ]
    }
   ],
   "source": [
    "input_title = [\"Python tutorial\"]\n",
    "input_text = [\"I'm looking for a good python tutorial for free online. Any suggestions?\"]\n",
    "all_input = input_title + input_text\n",
    "user_input = model_dbow.infer_vector(all_input, steps=20)\n",
    "user_input = user_input.reshape(1, -1)\n",
    "prediction = logreg.predict(user_input)\n",
    "print(prediction)"
   ]
  },
  {
   "cell_type": "code",
   "execution_count": 134,
   "metadata": {},
   "outputs": [],
   "source": [
    "# ivd = {v: k for k, v in y_encode.items()}\n",
    "# [ivd[x] for x in prediction]"
   ]
  },
  {
   "cell_type": "code",
   "execution_count": 219,
   "metadata": {},
   "outputs": [
    {
     "data": {
      "text/plain": [
       "array([['me_irl', 0.14852466047962495],\n",
       "       ['funny', 0.13061337494682707],\n",
       "       ['dankmemes', 0.12219000507000331],\n",
       "       ['memes', 0.12099509447774118],\n",
       "       ['aww', 0.11893742723244544]], dtype=object)"
      ]
     },
     "execution_count": 219,
     "metadata": {},
     "output_type": "execute_result"
    }
   ],
   "source": [
    "output_df = pd.DataFrame(logreg.predict_proba(user_input), columns=logreg.classes_).T\n",
    "top_5 = output_df.nlargest(5, [0])\n",
    "top_5.reset_index().values"
   ]
  },
  {
   "cell_type": "code",
   "execution_count": 220,
   "metadata": {},
   "outputs": [
    {
     "name": "stdout",
     "output_type": "stream",
     "text": [
      "[['me_irl' 0.14852466047962495]\n",
      " ['funny' 0.13061337494682707]\n",
      " ['dankmemes' 0.12219000507000331]\n",
      " ['memes' 0.12099509447774118]\n",
      " ['aww' 0.11893742723244544]]\n"
     ]
    }
   ],
   "source": [
    "output = pd.DataFrame(logreg.predict_proba(user_input), columns=logreg.classes_).T.nlargest(5, [0]).reset_index().values\n",
    "print(output)"
   ]
  },
  {
   "cell_type": "code",
   "execution_count": null,
   "metadata": {},
   "outputs": [],
   "source": []
  }
 ],
 "metadata": {
  "kernelspec": {
   "display_name": "Python 3",
   "language": "python",
   "name": "python3"
  },
  "language_info": {
   "codemirror_mode": {
    "name": "ipython",
    "version": 3
   },
   "file_extension": ".py",
   "mimetype": "text/x-python",
   "name": "python",
   "nbconvert_exporter": "python",
   "pygments_lexer": "ipython3",
   "version": "3.7.2"
  }
 },
 "nbformat": 4,
 "nbformat_minor": 2
}
